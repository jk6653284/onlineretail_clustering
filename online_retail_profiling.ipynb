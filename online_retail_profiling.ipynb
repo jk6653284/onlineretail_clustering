{
 "cells": [
  {
   "cell_type": "code",
   "execution_count": 321,
   "metadata": {
    "collapsed": true
   },
   "outputs": [],
   "source": [
    "import pandas as pd\n",
    "import numpy as np\n",
    "import matplotlib.pyplot as plt\n",
    "import seaborn as sns\n",
    "%matplotlib inline\n",
    "\n",
    "pd.set_option(\"max_columns\", None)"
   ]
  },
  {
   "cell_type": "code",
   "execution_count": 322,
   "metadata": {},
   "outputs": [],
   "source": [
    "df = pd.read_csv(\"new_onlineretail.csv\")\n",
    "df_clusters = pd.read_csv(\"full_customer_segmentation.csv\")\n",
    "df_clusters_scaled = pd.read_csv(\"full_customer_segmentation_scaled.csv\")"
   ]
  },
  {
   "cell_type": "code",
   "execution_count": 323,
   "metadata": {},
   "outputs": [
    {
     "data": {
      "text/html": [
       "<div>\n",
       "<style>\n",
       "    .dataframe thead tr:only-child th {\n",
       "        text-align: right;\n",
       "    }\n",
       "\n",
       "    .dataframe thead th {\n",
       "        text-align: left;\n",
       "    }\n",
       "\n",
       "    .dataframe tbody tr th {\n",
       "        vertical-align: top;\n",
       "    }\n",
       "</style>\n",
       "<table border=\"1\" class=\"dataframe\">\n",
       "  <thead>\n",
       "    <tr style=\"text-align: right;\">\n",
       "      <th></th>\n",
       "      <th>Unnamed: 0</th>\n",
       "      <th>AOV</th>\n",
       "      <th>cancelled_mean</th>\n",
       "      <th>customer_id</th>\n",
       "      <th>dbscan_labels</th>\n",
       "      <th>frequency</th>\n",
       "      <th>kmeans_cluster</th>\n",
       "      <th>time_since_last_purchase</th>\n",
       "      <th>unique_products_perc</th>\n",
       "    </tr>\n",
       "  </thead>\n",
       "  <tbody>\n",
       "    <tr>\n",
       "      <th>0</th>\n",
       "      <td>0</td>\n",
       "      <td>0.436137</td>\n",
       "      <td>0.5</td>\n",
       "      <td>12346.0</td>\n",
       "      <td>0</td>\n",
       "      <td>0.004386</td>\n",
       "      <td>0</td>\n",
       "      <td>0.871314</td>\n",
       "      <td>0.423077</td>\n",
       "    </tr>\n",
       "    <tr>\n",
       "      <th>1</th>\n",
       "      <td>1</td>\n",
       "      <td>0.503801</td>\n",
       "      <td>0.0</td>\n",
       "      <td>12347.0</td>\n",
       "      <td>1</td>\n",
       "      <td>0.793860</td>\n",
       "      <td>1</td>\n",
       "      <td>0.005362</td>\n",
       "      <td>0.499155</td>\n",
       "    </tr>\n",
       "    <tr>\n",
       "      <th>2</th>\n",
       "      <td>2</td>\n",
       "      <td>0.601790</td>\n",
       "      <td>0.0</td>\n",
       "      <td>12348.0</td>\n",
       "      <td>2</td>\n",
       "      <td>0.131579</td>\n",
       "      <td>2</td>\n",
       "      <td>0.201072</td>\n",
       "      <td>0.665012</td>\n",
       "    </tr>\n",
       "    <tr>\n",
       "      <th>3</th>\n",
       "      <td>3</td>\n",
       "      <td>0.504929</td>\n",
       "      <td>0.0</td>\n",
       "      <td>12349.0</td>\n",
       "      <td>2</td>\n",
       "      <td>0.315789</td>\n",
       "      <td>2</td>\n",
       "      <td>0.048257</td>\n",
       "      <td>1.000000</td>\n",
       "    </tr>\n",
       "    <tr>\n",
       "      <th>4</th>\n",
       "      <td>4</td>\n",
       "      <td>0.492342</td>\n",
       "      <td>0.0</td>\n",
       "      <td>12350.0</td>\n",
       "      <td>0</td>\n",
       "      <td>0.070175</td>\n",
       "      <td>0</td>\n",
       "      <td>0.831099</td>\n",
       "      <td>1.000000</td>\n",
       "    </tr>\n",
       "  </tbody>\n",
       "</table>\n",
       "</div>"
      ],
      "text/plain": [
       "   Unnamed: 0       AOV  cancelled_mean  customer_id dbscan_labels  frequency  \\\n",
       "0           0  0.436137             0.5      12346.0             0   0.004386   \n",
       "1           1  0.503801             0.0      12347.0             1   0.793860   \n",
       "2           2  0.601790             0.0      12348.0             2   0.131579   \n",
       "3           3  0.504929             0.0      12349.0             2   0.315789   \n",
       "4           4  0.492342             0.0      12350.0             0   0.070175   \n",
       "\n",
       "  kmeans_cluster  time_since_last_purchase  unique_products_perc  \n",
       "0              0                  0.871314              0.423077  \n",
       "1              1                  0.005362              0.499155  \n",
       "2              2                  0.201072              0.665012  \n",
       "3              2                  0.048257              1.000000  \n",
       "4              0                  0.831099              1.000000  "
      ]
     },
     "execution_count": 323,
     "metadata": {},
     "output_type": "execute_result"
    }
   ],
   "source": [
    "df_clusters_scaled.head()"
   ]
  },
  {
   "cell_type": "code",
   "execution_count": 324,
   "metadata": {},
   "outputs": [],
   "source": [
    "df_clusters = df_clusters.drop(\"Unnamed: 0\", axis = 1)\n",
    "df = df.drop(\"Unnamed: 0\", axis = 1)\n",
    "df_clusters_scaled = df_clusters_scaled.drop(\"Unnamed: 0\", axis = 1)"
   ]
  },
  {
   "cell_type": "code",
   "execution_count": 325,
   "metadata": {},
   "outputs": [
    {
     "data": {
      "text/html": [
       "<div>\n",
       "<style>\n",
       "    .dataframe thead tr:only-child th {\n",
       "        text-align: right;\n",
       "    }\n",
       "\n",
       "    .dataframe thead th {\n",
       "        text-align: left;\n",
       "    }\n",
       "\n",
       "    .dataframe tbody tr th {\n",
       "        vertical-align: top;\n",
       "    }\n",
       "</style>\n",
       "<table border=\"1\" class=\"dataframe\">\n",
       "  <thead>\n",
       "    <tr style=\"text-align: right;\">\n",
       "      <th></th>\n",
       "      <th>InvoiceNo</th>\n",
       "      <th>StockCode</th>\n",
       "      <th>Description</th>\n",
       "      <th>Quantity</th>\n",
       "      <th>InvoiceDate</th>\n",
       "      <th>UnitPrice</th>\n",
       "      <th>CustomerID</th>\n",
       "      <th>Country</th>\n",
       "      <th>cancelled</th>\n",
       "      <th>revenue</th>\n",
       "      <th>discount</th>\n",
       "      <th>Continent</th>\n",
       "      <th>damaged</th>\n",
       "      <th>Date</th>\n",
       "      <th>Time</th>\n",
       "      <th>time_since</th>\n",
       "    </tr>\n",
       "  </thead>\n",
       "  <tbody>\n",
       "    <tr>\n",
       "      <th>0</th>\n",
       "      <td>536365</td>\n",
       "      <td>85123A</td>\n",
       "      <td>white hanging heart t-light holder</td>\n",
       "      <td>6</td>\n",
       "      <td>2010-12-01 08:26:00</td>\n",
       "      <td>2.55</td>\n",
       "      <td>17850.0</td>\n",
       "      <td>United Kingdom</td>\n",
       "      <td>0.0</td>\n",
       "      <td>15.30</td>\n",
       "      <td>0</td>\n",
       "      <td>Europe</td>\n",
       "      <td>0</td>\n",
       "      <td>2010-12-01</td>\n",
       "      <td>08:26:00</td>\n",
       "      <td>373.0</td>\n",
       "    </tr>\n",
       "    <tr>\n",
       "      <th>1</th>\n",
       "      <td>536365</td>\n",
       "      <td>71053</td>\n",
       "      <td>white metal lantern</td>\n",
       "      <td>6</td>\n",
       "      <td>2010-12-01 08:26:00</td>\n",
       "      <td>3.39</td>\n",
       "      <td>17850.0</td>\n",
       "      <td>United Kingdom</td>\n",
       "      <td>0.0</td>\n",
       "      <td>20.34</td>\n",
       "      <td>0</td>\n",
       "      <td>Europe</td>\n",
       "      <td>0</td>\n",
       "      <td>2010-12-01</td>\n",
       "      <td>08:26:00</td>\n",
       "      <td>373.0</td>\n",
       "    </tr>\n",
       "    <tr>\n",
       "      <th>2</th>\n",
       "      <td>536365</td>\n",
       "      <td>84406B</td>\n",
       "      <td>cream cupid hearts coat hanger</td>\n",
       "      <td>8</td>\n",
       "      <td>2010-12-01 08:26:00</td>\n",
       "      <td>2.75</td>\n",
       "      <td>17850.0</td>\n",
       "      <td>United Kingdom</td>\n",
       "      <td>0.0</td>\n",
       "      <td>22.00</td>\n",
       "      <td>0</td>\n",
       "      <td>Europe</td>\n",
       "      <td>0</td>\n",
       "      <td>2010-12-01</td>\n",
       "      <td>08:26:00</td>\n",
       "      <td>373.0</td>\n",
       "    </tr>\n",
       "    <tr>\n",
       "      <th>3</th>\n",
       "      <td>536365</td>\n",
       "      <td>84029G</td>\n",
       "      <td>knitted union flag hot water bottle</td>\n",
       "      <td>6</td>\n",
       "      <td>2010-12-01 08:26:00</td>\n",
       "      <td>3.39</td>\n",
       "      <td>17850.0</td>\n",
       "      <td>United Kingdom</td>\n",
       "      <td>0.0</td>\n",
       "      <td>20.34</td>\n",
       "      <td>0</td>\n",
       "      <td>Europe</td>\n",
       "      <td>0</td>\n",
       "      <td>2010-12-01</td>\n",
       "      <td>08:26:00</td>\n",
       "      <td>373.0</td>\n",
       "    </tr>\n",
       "    <tr>\n",
       "      <th>4</th>\n",
       "      <td>536365</td>\n",
       "      <td>84029E</td>\n",
       "      <td>red woolly hottie white heart.</td>\n",
       "      <td>6</td>\n",
       "      <td>2010-12-01 08:26:00</td>\n",
       "      <td>3.39</td>\n",
       "      <td>17850.0</td>\n",
       "      <td>United Kingdom</td>\n",
       "      <td>0.0</td>\n",
       "      <td>20.34</td>\n",
       "      <td>0</td>\n",
       "      <td>Europe</td>\n",
       "      <td>0</td>\n",
       "      <td>2010-12-01</td>\n",
       "      <td>08:26:00</td>\n",
       "      <td>373.0</td>\n",
       "    </tr>\n",
       "  </tbody>\n",
       "</table>\n",
       "</div>"
      ],
      "text/plain": [
       "  InvoiceNo StockCode                          Description  Quantity  \\\n",
       "0    536365    85123A   white hanging heart t-light holder         6   \n",
       "1    536365     71053                  white metal lantern         6   \n",
       "2    536365    84406B       cream cupid hearts coat hanger         8   \n",
       "3    536365    84029G  knitted union flag hot water bottle         6   \n",
       "4    536365    84029E       red woolly hottie white heart.         6   \n",
       "\n",
       "           InvoiceDate  UnitPrice  CustomerID         Country  cancelled  \\\n",
       "0  2010-12-01 08:26:00       2.55     17850.0  United Kingdom        0.0   \n",
       "1  2010-12-01 08:26:00       3.39     17850.0  United Kingdom        0.0   \n",
       "2  2010-12-01 08:26:00       2.75     17850.0  United Kingdom        0.0   \n",
       "3  2010-12-01 08:26:00       3.39     17850.0  United Kingdom        0.0   \n",
       "4  2010-12-01 08:26:00       3.39     17850.0  United Kingdom        0.0   \n",
       "\n",
       "   revenue  discount Continent  damaged        Date      Time  time_since  \n",
       "0    15.30         0    Europe        0  2010-12-01  08:26:00       373.0  \n",
       "1    20.34         0    Europe        0  2010-12-01  08:26:00       373.0  \n",
       "2    22.00         0    Europe        0  2010-12-01  08:26:00       373.0  \n",
       "3    20.34         0    Europe        0  2010-12-01  08:26:00       373.0  \n",
       "4    20.34         0    Europe        0  2010-12-01  08:26:00       373.0  "
      ]
     },
     "execution_count": 325,
     "metadata": {},
     "output_type": "execute_result"
    }
   ],
   "source": [
    "df.head()"
   ]
  },
  {
   "cell_type": "code",
   "execution_count": 326,
   "metadata": {
    "scrolled": true
   },
   "outputs": [
    {
     "data": {
      "text/html": [
       "<div>\n",
       "<style>\n",
       "    .dataframe thead tr:only-child th {\n",
       "        text-align: right;\n",
       "    }\n",
       "\n",
       "    .dataframe thead th {\n",
       "        text-align: left;\n",
       "    }\n",
       "\n",
       "    .dataframe tbody tr th {\n",
       "        vertical-align: top;\n",
       "    }\n",
       "</style>\n",
       "<table border=\"1\" class=\"dataframe\">\n",
       "  <thead>\n",
       "    <tr style=\"text-align: right;\">\n",
       "      <th></th>\n",
       "      <th>AOV</th>\n",
       "      <th>cancelled_mean</th>\n",
       "      <th>customer_id</th>\n",
       "      <th>dbscan_labels</th>\n",
       "      <th>frequency</th>\n",
       "      <th>kmeans_cluster</th>\n",
       "      <th>time_since_last_purchase</th>\n",
       "      <th>unique_products_perc</th>\n",
       "    </tr>\n",
       "  </thead>\n",
       "  <tbody>\n",
       "    <tr>\n",
       "      <th>0</th>\n",
       "      <td>0.436137</td>\n",
       "      <td>0.5</td>\n",
       "      <td>12346.0</td>\n",
       "      <td>0</td>\n",
       "      <td>0.004386</td>\n",
       "      <td>0</td>\n",
       "      <td>0.871314</td>\n",
       "      <td>0.423077</td>\n",
       "    </tr>\n",
       "    <tr>\n",
       "      <th>1</th>\n",
       "      <td>0.503801</td>\n",
       "      <td>0.0</td>\n",
       "      <td>12347.0</td>\n",
       "      <td>1</td>\n",
       "      <td>0.793860</td>\n",
       "      <td>1</td>\n",
       "      <td>0.005362</td>\n",
       "      <td>0.499155</td>\n",
       "    </tr>\n",
       "    <tr>\n",
       "      <th>2</th>\n",
       "      <td>0.601790</td>\n",
       "      <td>0.0</td>\n",
       "      <td>12348.0</td>\n",
       "      <td>2</td>\n",
       "      <td>0.131579</td>\n",
       "      <td>2</td>\n",
       "      <td>0.201072</td>\n",
       "      <td>0.665012</td>\n",
       "    </tr>\n",
       "    <tr>\n",
       "      <th>3</th>\n",
       "      <td>0.504929</td>\n",
       "      <td>0.0</td>\n",
       "      <td>12349.0</td>\n",
       "      <td>2</td>\n",
       "      <td>0.315789</td>\n",
       "      <td>2</td>\n",
       "      <td>0.048257</td>\n",
       "      <td>1.000000</td>\n",
       "    </tr>\n",
       "    <tr>\n",
       "      <th>4</th>\n",
       "      <td>0.492342</td>\n",
       "      <td>0.0</td>\n",
       "      <td>12350.0</td>\n",
       "      <td>0</td>\n",
       "      <td>0.070175</td>\n",
       "      <td>0</td>\n",
       "      <td>0.831099</td>\n",
       "      <td>1.000000</td>\n",
       "    </tr>\n",
       "  </tbody>\n",
       "</table>\n",
       "</div>"
      ],
      "text/plain": [
       "        AOV  cancelled_mean  customer_id dbscan_labels  frequency  \\\n",
       "0  0.436137             0.5      12346.0             0   0.004386   \n",
       "1  0.503801             0.0      12347.0             1   0.793860   \n",
       "2  0.601790             0.0      12348.0             2   0.131579   \n",
       "3  0.504929             0.0      12349.0             2   0.315789   \n",
       "4  0.492342             0.0      12350.0             0   0.070175   \n",
       "\n",
       "  kmeans_cluster  time_since_last_purchase  unique_products_perc  \n",
       "0              0                  0.871314              0.423077  \n",
       "1              1                  0.005362              0.499155  \n",
       "2              2                  0.201072              0.665012  \n",
       "3              2                  0.048257              1.000000  \n",
       "4              0                  0.831099              1.000000  "
      ]
     },
     "execution_count": 326,
     "metadata": {},
     "output_type": "execute_result"
    }
   ],
   "source": [
    "df_clusters.head()"
   ]
  },
  {
   "cell_type": "code",
   "execution_count": 327,
   "metadata": {},
   "outputs": [
    {
     "data": {
      "text/html": [
       "<div>\n",
       "<style>\n",
       "    .dataframe thead tr:only-child th {\n",
       "        text-align: right;\n",
       "    }\n",
       "\n",
       "    .dataframe thead th {\n",
       "        text-align: left;\n",
       "    }\n",
       "\n",
       "    .dataframe tbody tr th {\n",
       "        vertical-align: top;\n",
       "    }\n",
       "</style>\n",
       "<table border=\"1\" class=\"dataframe\">\n",
       "  <thead>\n",
       "    <tr style=\"text-align: right;\">\n",
       "      <th></th>\n",
       "      <th>AOV</th>\n",
       "      <th>cancelled_mean</th>\n",
       "      <th>customer_id</th>\n",
       "      <th>dbscan_labels</th>\n",
       "      <th>frequency</th>\n",
       "      <th>kmeans_cluster</th>\n",
       "      <th>time_since_last_purchase</th>\n",
       "      <th>unique_products_perc</th>\n",
       "    </tr>\n",
       "  </thead>\n",
       "  <tbody>\n",
       "    <tr>\n",
       "      <th>0</th>\n",
       "      <td>0.436137</td>\n",
       "      <td>0.5</td>\n",
       "      <td>12346.0</td>\n",
       "      <td>0</td>\n",
       "      <td>0.004386</td>\n",
       "      <td>0</td>\n",
       "      <td>0.871314</td>\n",
       "      <td>0.423077</td>\n",
       "    </tr>\n",
       "    <tr>\n",
       "      <th>1</th>\n",
       "      <td>0.503801</td>\n",
       "      <td>0.0</td>\n",
       "      <td>12347.0</td>\n",
       "      <td>1</td>\n",
       "      <td>0.793860</td>\n",
       "      <td>1</td>\n",
       "      <td>0.005362</td>\n",
       "      <td>0.499155</td>\n",
       "    </tr>\n",
       "    <tr>\n",
       "      <th>2</th>\n",
       "      <td>0.601790</td>\n",
       "      <td>0.0</td>\n",
       "      <td>12348.0</td>\n",
       "      <td>2</td>\n",
       "      <td>0.131579</td>\n",
       "      <td>2</td>\n",
       "      <td>0.201072</td>\n",
       "      <td>0.665012</td>\n",
       "    </tr>\n",
       "    <tr>\n",
       "      <th>3</th>\n",
       "      <td>0.504929</td>\n",
       "      <td>0.0</td>\n",
       "      <td>12349.0</td>\n",
       "      <td>2</td>\n",
       "      <td>0.315789</td>\n",
       "      <td>2</td>\n",
       "      <td>0.048257</td>\n",
       "      <td>1.000000</td>\n",
       "    </tr>\n",
       "    <tr>\n",
       "      <th>4</th>\n",
       "      <td>0.492342</td>\n",
       "      <td>0.0</td>\n",
       "      <td>12350.0</td>\n",
       "      <td>0</td>\n",
       "      <td>0.070175</td>\n",
       "      <td>0</td>\n",
       "      <td>0.831099</td>\n",
       "      <td>1.000000</td>\n",
       "    </tr>\n",
       "  </tbody>\n",
       "</table>\n",
       "</div>"
      ],
      "text/plain": [
       "        AOV  cancelled_mean  customer_id dbscan_labels  frequency  \\\n",
       "0  0.436137             0.5      12346.0             0   0.004386   \n",
       "1  0.503801             0.0      12347.0             1   0.793860   \n",
       "2  0.601790             0.0      12348.0             2   0.131579   \n",
       "3  0.504929             0.0      12349.0             2   0.315789   \n",
       "4  0.492342             0.0      12350.0             0   0.070175   \n",
       "\n",
       "  kmeans_cluster  time_since_last_purchase  unique_products_perc  \n",
       "0              0                  0.871314              0.423077  \n",
       "1              1                  0.005362              0.499155  \n",
       "2              2                  0.201072              0.665012  \n",
       "3              2                  0.048257              1.000000  \n",
       "4              0                  0.831099              1.000000  "
      ]
     },
     "execution_count": 327,
     "metadata": {},
     "output_type": "execute_result"
    }
   ],
   "source": [
    "df_clusters_scaled.head()"
   ]
  },
  {
   "cell_type": "code",
   "execution_count": 328,
   "metadata": {},
   "outputs": [],
   "source": [
    "# get customers id from clusters\n",
    "# some customers are not there because they were removed as outliers\n",
    "# make it a dictionary where key = cid and val = cluster id\n",
    "\n",
    "cid_clusters_dict = {}\n",
    "for i in range(len(df_clusters)):\n",
    "    cid_clusters_dict[df_clusters.loc[i,'customer_id']] = df_clusters.loc[i,'dbscan_labels']"
   ]
  },
  {
   "cell_type": "code",
   "execution_count": 329,
   "metadata": {},
   "outputs": [
    {
     "data": {
      "text/plain": [
       "4372"
      ]
     },
     "execution_count": 329,
     "metadata": {},
     "output_type": "execute_result"
    }
   ],
   "source": [
    "len(cid_clusters_dict)"
   ]
  },
  {
   "cell_type": "code",
   "execution_count": 330,
   "metadata": {},
   "outputs": [],
   "source": [
    "# get complete customers id list from original data\n",
    "# duplicates should be allowed in order\n",
    "# as we want the cluster_id to be filled in for each of the row\n",
    "\n",
    "cid_original = df.CustomerID.tolist()"
   ]
  },
  {
   "cell_type": "code",
   "execution_count": 331,
   "metadata": {},
   "outputs": [],
   "source": [
    "# create a new list where:\n",
    "# 1. loops through each original customer id\n",
    "# 2. checks whether or not that id is in cid_clusters\n",
    "# 3. if it is, then get the value corresponding to the id\n",
    "# 4. if not, then mark as 'outlier'\n",
    "\n",
    "clusters_mapping = [cid_clusters_dict[i] if i in cid_clusters_dict else 'outlier' for i in cid_original]"
   ]
  },
  {
   "cell_type": "code",
   "execution_count": 332,
   "metadata": {},
   "outputs": [
    {
     "data": {
      "text/plain": [
       "['outlier',\n",
       " 'outlier',\n",
       " 'outlier',\n",
       " 'outlier',\n",
       " 'outlier',\n",
       " 'outlier',\n",
       " 'outlier',\n",
       " 'outlier',\n",
       " 'outlier',\n",
       " '1']"
      ]
     },
     "execution_count": 332,
     "metadata": {},
     "output_type": "execute_result"
    }
   ],
   "source": [
    "clusters_mapping[:10]"
   ]
  },
  {
   "cell_type": "code",
   "execution_count": 333,
   "metadata": {
    "collapsed": true
   },
   "outputs": [],
   "source": [
    "df['cluster'] = clusters_mapping"
   ]
  },
  {
   "cell_type": "code",
   "execution_count": 334,
   "metadata": {
    "scrolled": true
   },
   "outputs": [
    {
     "data": {
      "text/html": [
       "<div>\n",
       "<style>\n",
       "    .dataframe thead tr:only-child th {\n",
       "        text-align: right;\n",
       "    }\n",
       "\n",
       "    .dataframe thead th {\n",
       "        text-align: left;\n",
       "    }\n",
       "\n",
       "    .dataframe tbody tr th {\n",
       "        vertical-align: top;\n",
       "    }\n",
       "</style>\n",
       "<table border=\"1\" class=\"dataframe\">\n",
       "  <thead>\n",
       "    <tr style=\"text-align: right;\">\n",
       "      <th></th>\n",
       "      <th>InvoiceNo</th>\n",
       "      <th>StockCode</th>\n",
       "      <th>Description</th>\n",
       "      <th>Quantity</th>\n",
       "      <th>InvoiceDate</th>\n",
       "      <th>UnitPrice</th>\n",
       "      <th>CustomerID</th>\n",
       "      <th>Country</th>\n",
       "      <th>cancelled</th>\n",
       "      <th>revenue</th>\n",
       "      <th>discount</th>\n",
       "      <th>Continent</th>\n",
       "      <th>damaged</th>\n",
       "      <th>Date</th>\n",
       "      <th>Time</th>\n",
       "      <th>time_since</th>\n",
       "      <th>cluster</th>\n",
       "    </tr>\n",
       "  </thead>\n",
       "  <tbody>\n",
       "    <tr>\n",
       "      <th>0</th>\n",
       "      <td>536365</td>\n",
       "      <td>85123A</td>\n",
       "      <td>white hanging heart t-light holder</td>\n",
       "      <td>6</td>\n",
       "      <td>2010-12-01 08:26:00</td>\n",
       "      <td>2.55</td>\n",
       "      <td>17850.0</td>\n",
       "      <td>United Kingdom</td>\n",
       "      <td>0.0</td>\n",
       "      <td>15.30</td>\n",
       "      <td>0</td>\n",
       "      <td>Europe</td>\n",
       "      <td>0</td>\n",
       "      <td>2010-12-01</td>\n",
       "      <td>08:26:00</td>\n",
       "      <td>373.0</td>\n",
       "      <td>outlier</td>\n",
       "    </tr>\n",
       "    <tr>\n",
       "      <th>1</th>\n",
       "      <td>536365</td>\n",
       "      <td>71053</td>\n",
       "      <td>white metal lantern</td>\n",
       "      <td>6</td>\n",
       "      <td>2010-12-01 08:26:00</td>\n",
       "      <td>3.39</td>\n",
       "      <td>17850.0</td>\n",
       "      <td>United Kingdom</td>\n",
       "      <td>0.0</td>\n",
       "      <td>20.34</td>\n",
       "      <td>0</td>\n",
       "      <td>Europe</td>\n",
       "      <td>0</td>\n",
       "      <td>2010-12-01</td>\n",
       "      <td>08:26:00</td>\n",
       "      <td>373.0</td>\n",
       "      <td>outlier</td>\n",
       "    </tr>\n",
       "    <tr>\n",
       "      <th>2</th>\n",
       "      <td>536365</td>\n",
       "      <td>84406B</td>\n",
       "      <td>cream cupid hearts coat hanger</td>\n",
       "      <td>8</td>\n",
       "      <td>2010-12-01 08:26:00</td>\n",
       "      <td>2.75</td>\n",
       "      <td>17850.0</td>\n",
       "      <td>United Kingdom</td>\n",
       "      <td>0.0</td>\n",
       "      <td>22.00</td>\n",
       "      <td>0</td>\n",
       "      <td>Europe</td>\n",
       "      <td>0</td>\n",
       "      <td>2010-12-01</td>\n",
       "      <td>08:26:00</td>\n",
       "      <td>373.0</td>\n",
       "      <td>outlier</td>\n",
       "    </tr>\n",
       "    <tr>\n",
       "      <th>3</th>\n",
       "      <td>536365</td>\n",
       "      <td>84029G</td>\n",
       "      <td>knitted union flag hot water bottle</td>\n",
       "      <td>6</td>\n",
       "      <td>2010-12-01 08:26:00</td>\n",
       "      <td>3.39</td>\n",
       "      <td>17850.0</td>\n",
       "      <td>United Kingdom</td>\n",
       "      <td>0.0</td>\n",
       "      <td>20.34</td>\n",
       "      <td>0</td>\n",
       "      <td>Europe</td>\n",
       "      <td>0</td>\n",
       "      <td>2010-12-01</td>\n",
       "      <td>08:26:00</td>\n",
       "      <td>373.0</td>\n",
       "      <td>outlier</td>\n",
       "    </tr>\n",
       "    <tr>\n",
       "      <th>4</th>\n",
       "      <td>536365</td>\n",
       "      <td>84029E</td>\n",
       "      <td>red woolly hottie white heart.</td>\n",
       "      <td>6</td>\n",
       "      <td>2010-12-01 08:26:00</td>\n",
       "      <td>3.39</td>\n",
       "      <td>17850.0</td>\n",
       "      <td>United Kingdom</td>\n",
       "      <td>0.0</td>\n",
       "      <td>20.34</td>\n",
       "      <td>0</td>\n",
       "      <td>Europe</td>\n",
       "      <td>0</td>\n",
       "      <td>2010-12-01</td>\n",
       "      <td>08:26:00</td>\n",
       "      <td>373.0</td>\n",
       "      <td>outlier</td>\n",
       "    </tr>\n",
       "    <tr>\n",
       "      <th>5</th>\n",
       "      <td>536365</td>\n",
       "      <td>22752</td>\n",
       "      <td>set 7 babushka nesting boxes</td>\n",
       "      <td>2</td>\n",
       "      <td>2010-12-01 08:26:00</td>\n",
       "      <td>7.65</td>\n",
       "      <td>17850.0</td>\n",
       "      <td>United Kingdom</td>\n",
       "      <td>0.0</td>\n",
       "      <td>15.30</td>\n",
       "      <td>0</td>\n",
       "      <td>Europe</td>\n",
       "      <td>0</td>\n",
       "      <td>2010-12-01</td>\n",
       "      <td>08:26:00</td>\n",
       "      <td>373.0</td>\n",
       "      <td>outlier</td>\n",
       "    </tr>\n",
       "    <tr>\n",
       "      <th>6</th>\n",
       "      <td>536365</td>\n",
       "      <td>21730</td>\n",
       "      <td>glass star frosted t-light holder</td>\n",
       "      <td>6</td>\n",
       "      <td>2010-12-01 08:26:00</td>\n",
       "      <td>4.25</td>\n",
       "      <td>17850.0</td>\n",
       "      <td>United Kingdom</td>\n",
       "      <td>0.0</td>\n",
       "      <td>25.50</td>\n",
       "      <td>0</td>\n",
       "      <td>Europe</td>\n",
       "      <td>0</td>\n",
       "      <td>2010-12-01</td>\n",
       "      <td>08:26:00</td>\n",
       "      <td>373.0</td>\n",
       "      <td>outlier</td>\n",
       "    </tr>\n",
       "    <tr>\n",
       "      <th>7</th>\n",
       "      <td>536366</td>\n",
       "      <td>22633</td>\n",
       "      <td>hand warmer union jack</td>\n",
       "      <td>6</td>\n",
       "      <td>2010-12-01 08:28:00</td>\n",
       "      <td>1.85</td>\n",
       "      <td>17850.0</td>\n",
       "      <td>United Kingdom</td>\n",
       "      <td>0.0</td>\n",
       "      <td>11.10</td>\n",
       "      <td>0</td>\n",
       "      <td>Europe</td>\n",
       "      <td>0</td>\n",
       "      <td>2010-12-01</td>\n",
       "      <td>08:28:00</td>\n",
       "      <td>373.0</td>\n",
       "      <td>outlier</td>\n",
       "    </tr>\n",
       "    <tr>\n",
       "      <th>8</th>\n",
       "      <td>536366</td>\n",
       "      <td>22632</td>\n",
       "      <td>hand warmer red polka dot</td>\n",
       "      <td>6</td>\n",
       "      <td>2010-12-01 08:28:00</td>\n",
       "      <td>1.85</td>\n",
       "      <td>17850.0</td>\n",
       "      <td>United Kingdom</td>\n",
       "      <td>0.0</td>\n",
       "      <td>11.10</td>\n",
       "      <td>0</td>\n",
       "      <td>Europe</td>\n",
       "      <td>0</td>\n",
       "      <td>2010-12-01</td>\n",
       "      <td>08:28:00</td>\n",
       "      <td>373.0</td>\n",
       "      <td>outlier</td>\n",
       "    </tr>\n",
       "    <tr>\n",
       "      <th>9</th>\n",
       "      <td>536367</td>\n",
       "      <td>84879</td>\n",
       "      <td>assorted colour bird ornament</td>\n",
       "      <td>32</td>\n",
       "      <td>2010-12-01 08:34:00</td>\n",
       "      <td>1.69</td>\n",
       "      <td>13047.0</td>\n",
       "      <td>United Kingdom</td>\n",
       "      <td>0.0</td>\n",
       "      <td>54.08</td>\n",
       "      <td>0</td>\n",
       "      <td>Europe</td>\n",
       "      <td>0</td>\n",
       "      <td>2010-12-01</td>\n",
       "      <td>08:34:00</td>\n",
       "      <td>373.0</td>\n",
       "      <td>1</td>\n",
       "    </tr>\n",
       "  </tbody>\n",
       "</table>\n",
       "</div>"
      ],
      "text/plain": [
       "  InvoiceNo StockCode                          Description  Quantity  \\\n",
       "0    536365    85123A   white hanging heart t-light holder         6   \n",
       "1    536365     71053                  white metal lantern         6   \n",
       "2    536365    84406B       cream cupid hearts coat hanger         8   \n",
       "3    536365    84029G  knitted union flag hot water bottle         6   \n",
       "4    536365    84029E       red woolly hottie white heart.         6   \n",
       "5    536365     22752         set 7 babushka nesting boxes         2   \n",
       "6    536365     21730    glass star frosted t-light holder         6   \n",
       "7    536366     22633               hand warmer union jack         6   \n",
       "8    536366     22632            hand warmer red polka dot         6   \n",
       "9    536367     84879        assorted colour bird ornament        32   \n",
       "\n",
       "           InvoiceDate  UnitPrice  CustomerID         Country  cancelled  \\\n",
       "0  2010-12-01 08:26:00       2.55     17850.0  United Kingdom        0.0   \n",
       "1  2010-12-01 08:26:00       3.39     17850.0  United Kingdom        0.0   \n",
       "2  2010-12-01 08:26:00       2.75     17850.0  United Kingdom        0.0   \n",
       "3  2010-12-01 08:26:00       3.39     17850.0  United Kingdom        0.0   \n",
       "4  2010-12-01 08:26:00       3.39     17850.0  United Kingdom        0.0   \n",
       "5  2010-12-01 08:26:00       7.65     17850.0  United Kingdom        0.0   \n",
       "6  2010-12-01 08:26:00       4.25     17850.0  United Kingdom        0.0   \n",
       "7  2010-12-01 08:28:00       1.85     17850.0  United Kingdom        0.0   \n",
       "8  2010-12-01 08:28:00       1.85     17850.0  United Kingdom        0.0   \n",
       "9  2010-12-01 08:34:00       1.69     13047.0  United Kingdom        0.0   \n",
       "\n",
       "   revenue  discount Continent  damaged        Date      Time  time_since  \\\n",
       "0    15.30         0    Europe        0  2010-12-01  08:26:00       373.0   \n",
       "1    20.34         0    Europe        0  2010-12-01  08:26:00       373.0   \n",
       "2    22.00         0    Europe        0  2010-12-01  08:26:00       373.0   \n",
       "3    20.34         0    Europe        0  2010-12-01  08:26:00       373.0   \n",
       "4    20.34         0    Europe        0  2010-12-01  08:26:00       373.0   \n",
       "5    15.30         0    Europe        0  2010-12-01  08:26:00       373.0   \n",
       "6    25.50         0    Europe        0  2010-12-01  08:26:00       373.0   \n",
       "7    11.10         0    Europe        0  2010-12-01  08:28:00       373.0   \n",
       "8    11.10         0    Europe        0  2010-12-01  08:28:00       373.0   \n",
       "9    54.08         0    Europe        0  2010-12-01  08:34:00       373.0   \n",
       "\n",
       "   cluster  \n",
       "0  outlier  \n",
       "1  outlier  \n",
       "2  outlier  \n",
       "3  outlier  \n",
       "4  outlier  \n",
       "5  outlier  \n",
       "6  outlier  \n",
       "7  outlier  \n",
       "8  outlier  \n",
       "9        1  "
      ]
     },
     "execution_count": 334,
     "metadata": {},
     "output_type": "execute_result"
    }
   ],
   "source": [
    "df.head(10)"
   ]
  },
  {
   "cell_type": "code",
   "execution_count": 335,
   "metadata": {},
   "outputs": [],
   "source": [
    "df_outliers = df[df.cluster == 'outlier']\n",
    "df_segmented = df[df.cluster != 'outlier']"
   ]
  },
  {
   "cell_type": "code",
   "execution_count": 336,
   "metadata": {},
   "outputs": [
    {
     "name": "stdout",
     "output_type": "stream",
     "text": [
      "<class 'pandas.core.frame.DataFrame'>\n",
      "Int64Index: 218243 entries, 9 to 406828\n",
      "Data columns (total 17 columns):\n",
      "InvoiceNo      218243 non-null object\n",
      "StockCode      218243 non-null object\n",
      "Description    218243 non-null object\n",
      "Quantity       218243 non-null int64\n",
      "InvoiceDate    218243 non-null object\n",
      "UnitPrice      218243 non-null float64\n",
      "CustomerID     218243 non-null float64\n",
      "Country        218243 non-null object\n",
      "cancelled      218243 non-null float64\n",
      "revenue        218243 non-null float64\n",
      "discount       218243 non-null int64\n",
      "Continent      218243 non-null object\n",
      "damaged        218243 non-null int64\n",
      "Date           218243 non-null object\n",
      "Time           218243 non-null object\n",
      "time_since     218243 non-null float64\n",
      "cluster        218243 non-null object\n",
      "dtypes: float64(5), int64(3), object(9)\n",
      "memory usage: 30.0+ MB\n",
      "None\n",
      "\n",
      "\n",
      "<class 'pandas.core.frame.DataFrame'>\n",
      "Int64Index: 188586 entries, 0 to 406813\n",
      "Data columns (total 17 columns):\n",
      "InvoiceNo      188586 non-null object\n",
      "StockCode      188586 non-null object\n",
      "Description    188586 non-null object\n",
      "Quantity       188586 non-null int64\n",
      "InvoiceDate    188586 non-null object\n",
      "UnitPrice      188586 non-null float64\n",
      "CustomerID     188586 non-null float64\n",
      "Country        188586 non-null object\n",
      "cancelled      188586 non-null float64\n",
      "revenue        188586 non-null float64\n",
      "discount       188586 non-null int64\n",
      "Continent      188586 non-null object\n",
      "damaged        188586 non-null int64\n",
      "Date           188586 non-null object\n",
      "Time           188586 non-null object\n",
      "time_since     188586 non-null float64\n",
      "cluster        188586 non-null object\n",
      "dtypes: float64(5), int64(3), object(9)\n",
      "memory usage: 25.9+ MB\n",
      "None\n"
     ]
    }
   ],
   "source": [
    "print(df_segmented.info())\n",
    "print('\\n')\n",
    "print(df_outliers.info())"
   ]
  },
  {
   "cell_type": "code",
   "execution_count": 337,
   "metadata": {},
   "outputs": [
    {
     "data": {
      "text/plain": [
       "1    122392\n",
       "2     71979\n",
       "0     23872\n",
       "Name: cluster, dtype: int64"
      ]
     },
     "execution_count": 337,
     "metadata": {},
     "output_type": "execute_result"
    }
   ],
   "source": [
    "df_segmented.cluster.value_counts()"
   ]
  },
  {
   "cell_type": "code",
   "execution_count": 338,
   "metadata": {},
   "outputs": [],
   "source": [
    "# divide by groups\n",
    "cluster_1 = df_segmented[df_segmented.cluster == '0']\n",
    "cluster_2 = df_segmented[df_segmented.cluster == '1']\n",
    "cluster_3 = df_segmented[df_segmented.cluster == '2']\n",
    "outliers = df_outliers.copy()\n",
    "\n",
    "cluster_1_rfm = df_clusters[df_clusters.dbscan_labels == \"0\"]\n",
    "cluster_2_rfm = df_clusters[df_clusters.dbscan_labels == \"1\"]\n",
    "cluster_3_rfm = df_clusters[df_clusters.dbscan_labels == \"2\"]\n",
    "outliers_rfm = df_clusters[df_clusters.dbscan_labels == 'outlier']\n",
    "\n",
    "cluster_1_rfm_scaled = df_clusters_scaled[df_clusters_scaled.dbscan_labels == '0']\n",
    "cluster_2_rfm_scaled = df_clusters_scaled[df_clusters_scaled.dbscan_labels == '1']\n",
    "cluster_3_rfm_scaled = df_clusters_scaled[df_clusters_scaled.dbscan_labels == '2']\n",
    "outliers_rfm_scaled = df_clusters_scaled[df_clusters_scaled.dbscan_labels == 'outlier']"
   ]
  },
  {
   "cell_type": "markdown",
   "metadata": {},
   "source": [
    "## Profiling the segmentation 1: clustering variables"
   ]
  },
  {
   "cell_type": "code",
   "execution_count": 339,
   "metadata": {
    "collapsed": true
   },
   "outputs": [],
   "source": [
    "# using the rfm dataset, \n",
    "# view how each of the cluster variables have been segmented"
   ]
  },
  {
   "cell_type": "code",
   "execution_count": 340,
   "metadata": {},
   "outputs": [
    {
     "data": {
      "text/plain": [
       "Index(['AOV', 'cancelled_mean', 'customer_id', 'dbscan_labels', 'frequency',\n",
       "       'kmeans_cluster', 'time_since_last_purchase', 'unique_products_perc'],\n",
       "      dtype='object')"
      ]
     },
     "execution_count": 340,
     "metadata": {},
     "output_type": "execute_result"
    }
   ],
   "source": [
    "df_clusters.columns"
   ]
  },
  {
   "cell_type": "code",
   "execution_count": 341,
   "metadata": {},
   "outputs": [
    {
     "data": {
      "text/plain": [
       "[0.0,\n",
       " 1.2566370614359172,\n",
       " 2.5132741228718345,\n",
       " 3.7699111843077517,\n",
       " 5.026548245743669]"
      ]
     },
     "execution_count": 341,
     "metadata": {},
     "output_type": "execute_result"
    }
   ],
   "source": [
    "# radar chart practice\n",
    "from math import pi\n",
    "\n",
    "# set data\n",
    "cat = ['Speed', 'Relability', 'Comfort', 'Safety', 'Efficiency']\n",
    "values = [90,60,65,70,40]\n",
    "\n",
    "N = len(cat)\n",
    "\n",
    "# dividing the circle starting location by the number of categories\n",
    "x_as = [n / float(N) * 2 * pi for n in range(N)]\n",
    "x_as"
   ]
  },
  {
   "cell_type": "code",
   "execution_count": 342,
   "metadata": {
    "collapsed": true
   },
   "outputs": [],
   "source": [
    "# chart is circular -> append a copy of the first value\n",
    "# of each list a the end of each list with data\n",
    "values += values[:1]\n",
    "x_as += x_as[:1]"
   ]
  },
  {
   "cell_type": "code",
   "execution_count": 343,
   "metadata": {},
   "outputs": [
    {
     "data": {
      "image/png": "[encoded data removed]",
      "text/plain": [
       "<matplotlib.figure.Figure at 0x11bc88b00>"
      ]
     },
     "metadata": {},
     "output_type": "display_data"
    }
   ],
   "source": [
    "# set color of axes\n",
    "plt.rc('axes', linewidth = 0.5, edgecolor = \"#888888\")\n",
    "\n",
    "# create polar plot\n",
    "ax = plt.subplot(111, polar = True)\n",
    "\n",
    "# set clockwise rotation\n",
    "ax.set_theta_offset(pi / 2)\n",
    "ax.set_theta_direction(-1)\n",
    "\n",
    "# set position of y-labels\n",
    "ax.set_rlabel_position(0)\n",
    "\n",
    "# set color and linestyle of grid\n",
    "ax.xaxis.grid(True, color = \"#888888\", linestyle = 'solid',\n",
    "             linewidth = 0.5)\n",
    "ax.yaxis.grid(True, color = \"#888888\", linestyle = 'solid',\n",
    "             linewidth = 0.5)\n",
    "\n",
    "# set number of radial axes and remove labels\n",
    "plt.xticks(x_as[:-1],[])\n",
    "\n",
    "# set yticks\n",
    "plt.yticks([20,40,60,80,100], [\"20\",\"40\",\"60\", \"80\", \"100\"])\n",
    "\n",
    "# plot actual data\n",
    "ax.plot(x_as, values, linewidth = 0, linestyle = 'solid', zorder = 3)\n",
    "\n",
    "# fill area\n",
    "ax.fill(x_as, values, 'b', alpha = 0.3)\n",
    "\n",
    "# set axis limit\n",
    "ax.set_ylim(0,100)\n",
    "\n",
    "# draw ytick labels to make sure they fit properly\n",
    "for i in range(N):\n",
    "    angle_rad = i / float(N) * 2 * pi\n",
    "\n",
    "    if angle_rad == 0:\n",
    "        ha, distance_ax = \"center\", 10\n",
    "    elif 0 < angle_rad < pi:\n",
    "        ha, distance_ax = \"left\", 1\n",
    "    elif angle_rad == pi:\n",
    "        ha, distance_ax = \"center\", 1\n",
    "    else:\n",
    "        ha, distance_ax = \"right\", 1\n",
    "\n",
    "    ax.text(angle_rad, 100 + distance_ax, cat[i], size=10, horizontalalignment=ha, verticalalignment=\"center\")\n",
    "\n",
    "\n",
    "# Show polar plot\n",
    "plt.show()"
   ]
  },
  {
   "cell_type": "code",
   "execution_count": 344,
   "metadata": {},
   "outputs": [],
   "source": [
    "features = ['AOV', 'cancelled_mean','frequency',\n",
    "           'time_since_last_purchase',\n",
    "           'unique_products_perc']"
   ]
  },
  {
   "cell_type": "code",
   "execution_count": 345,
   "metadata": {},
   "outputs": [
    {
     "data": {
      "image/png": "[encoded data removed]",
      "text/plain": [
       "<matplotlib.figure.Figure at 0x11bc9ef60>"
      ]
     },
     "metadata": {},
     "output_type": "display_data"
    }
   ],
   "source": [
    "# cluster 1 radar chart\n",
    "\n",
    "# get mean values for each variable\n",
    "mean_values = cluster_1_rfm_scaled[features].apply(lambda x: np.mean(x)).values.tolist()\n",
    "\n",
    "N = len(cat_labels)\n",
    "x_as = [n / float(N) * pi * 2 for n in range(N)]\n",
    "\n",
    "mean_values += mean_values[:1]\n",
    "x_as += x_as[:1]\n",
    "\n",
    "# set color of axes\n",
    "plt.rc('axes', linewidth = 0.5, edgecolor = \"#888888\")\n",
    "\n",
    "# create polar plot\n",
    "ax = plt.subplot(111, polar = True)\n",
    "\n",
    "# set clockwise rotation\n",
    "ax.set_theta_offset(pi / 2)\n",
    "ax.set_theta_direction(-1)\n",
    "\n",
    "# set position of y-labels\n",
    "ax.set_rlabel_position(0)\n",
    "\n",
    "# set color and linestyle of grid\n",
    "ax.xaxis.grid(True, color = \"#888888\", linestyle = 'solid',\n",
    "             linewidth = 0.5)\n",
    "ax.yaxis.grid(True, color = \"#888888\", linestyle = 'solid',\n",
    "             linewidth = 0.5)\n",
    "\n",
    "# set number of radial axes and remove labels\n",
    "plt.xticks(x_as[:-1],[])\n",
    "\n",
    "# set yticks\n",
    "y_ticks_setting = np.linspace(0,1, num = 5)\n",
    "plt.yticks(y_ticks_setting, y_ticks_setting.astype(str))\n",
    "\n",
    "# plot actual data\n",
    "ax.plot(x_as, mean_values, linewidth = 0, linestyle = 'solid', zorder = 3)\n",
    "\n",
    "# fill area\n",
    "ax.fill(x_as, mean_values, 'b', alpha = 0.3)\n",
    "\n",
    "# set axis limit\n",
    "ax.set_ylim(0,1)\n",
    "\n",
    "# draw ytick labels to make sure they fit properly\n",
    "for i in range(N):\n",
    "    angle_rad = i / float(N) * 2 * pi\n",
    "\n",
    "    if angle_rad == 0:\n",
    "        ha, distance_ax = \"center\", 1.1\n",
    "    elif 0 < angle_rad < pi:\n",
    "        ha, distance_ax = \"left\", 1\n",
    "    elif angle_rad == pi:\n",
    "        ha, distance_ax = \"center\", 1\n",
    "    else:\n",
    "        ha, distance_ax = \"right\", 1\n",
    "\n",
    "    ax.text(angle_rad, 0.1 + distance_ax, \n",
    "            cat_labels[i], size=10, \n",
    "            horizontalalignment=ha, \n",
    "            verticalalignment=\"center\")\n",
    "\n",
    "# Show polar plot\n",
    "plt.show()"
   ]
  },
  {
   "cell_type": "code",
   "execution_count": 346,
   "metadata": {},
   "outputs": [
    {
     "data": {
      "image/png": "[encoded data removed]",
      "text/plain": [
       "<matplotlib.figure.Figure at 0x11df1a7f0>"
      ]
     },
     "metadata": {},
     "output_type": "display_data"
    }
   ],
   "source": [
    "# cluster 2 radar chart\n",
    "\n",
    "# get mean values for each variable\n",
    "mean_values = cluster_2_rfm_scaled[features].apply(lambda x: np.mean(x)).values.tolist()\n",
    "\n",
    "N = len(cat_labels)\n",
    "x_as = [n / float(N) * pi * 2 for n in range(N)]\n",
    "\n",
    "mean_values += mean_values[:1]\n",
    "x_as += x_as[:1]\n",
    "\n",
    "# set color of axes\n",
    "plt.rc('axes', linewidth = 0.5, edgecolor = \"#888888\")\n",
    "\n",
    "# create polar plot\n",
    "ax = plt.subplot(111, polar = True)\n",
    "\n",
    "# set clockwise rotation\n",
    "ax.set_theta_offset(pi / 2)\n",
    "ax.set_theta_direction(-1)\n",
    "\n",
    "# set position of y-labels\n",
    "ax.set_rlabel_position(0)\n",
    "\n",
    "# set color and linestyle of grid\n",
    "ax.xaxis.grid(True, color = \"#888888\", linestyle = 'solid',\n",
    "             linewidth = 0.5)\n",
    "ax.yaxis.grid(True, color = \"#888888\", linestyle = 'solid',\n",
    "             linewidth = 0.5)\n",
    "\n",
    "# set number of radial axes and remove labels\n",
    "plt.xticks(x_as[:-1],[])\n",
    "\n",
    "# set yticks\n",
    "y_ticks_setting = np.linspace(0,1, num = 5)\n",
    "plt.yticks(y_ticks_setting, y_ticks_setting.astype(str))\n",
    "\n",
    "# plot actual data\n",
    "ax.plot(x_as, mean_values, linewidth = 0, linestyle = 'solid', zorder = 3)\n",
    "\n",
    "# fill area\n",
    "ax.fill(x_as, mean_values, 'b', alpha = 0.3)\n",
    "\n",
    "# set axis limit\n",
    "ax.set_ylim(0,1)\n",
    "\n",
    "# draw ytick labels to make sure they fit properly\n",
    "for i in range(N):\n",
    "    angle_rad = i / float(N) * 2 * pi\n",
    "\n",
    "    if angle_rad == 0:\n",
    "        ha, distance_ax = \"center\", 1.1\n",
    "    elif 0 < angle_rad < pi:\n",
    "        ha, distance_ax = \"left\", 1\n",
    "    elif angle_rad == pi:\n",
    "        ha, distance_ax = \"center\", 1\n",
    "    else:\n",
    "        ha, distance_ax = \"right\", 1\n",
    "\n",
    "    ax.text(angle_rad, 0.1 + distance_ax, \n",
    "            cat_labels[i], size=10, \n",
    "            horizontalalignment=ha, \n",
    "            verticalalignment=\"center\")\n",
    "\n",
    "# Show polar plot\n",
    "plt.show()"
   ]
  },
  {
   "cell_type": "code",
   "execution_count": 347,
   "metadata": {},
   "outputs": [
    {
     "data": {
      "image/png": "[encoded data removed]",
      "text/plain": [
       "<matplotlib.figure.Figure at 0x138cef828>"
      ]
     },
     "metadata": {},
     "output_type": "display_data"
    }
   ],
   "source": [
    "# cluster 3 radar chart\n",
    "\n",
    "# get mean values for each variable\n",
    "mean_values = cluster_3_rfm_scaled[features].apply(lambda x: np.mean(x)).values.tolist()\n",
    "\n",
    "N = len(cat_labels)\n",
    "x_as = [n / float(N) * pi * 2 for n in range(N)]\n",
    "\n",
    "mean_values += mean_values[:1]\n",
    "x_as += x_as[:1]\n",
    "\n",
    "# set color of axes\n",
    "plt.rc('axes', linewidth = 0.5, edgecolor = \"#888888\")\n",
    "\n",
    "# create polar plot\n",
    "ax = plt.subplot(111, polar = True)\n",
    "\n",
    "# set clockwise rotation\n",
    "ax.set_theta_offset(pi / 2)\n",
    "ax.set_theta_direction(-1)\n",
    "\n",
    "# set position of y-labels\n",
    "ax.set_rlabel_position(0)\n",
    "\n",
    "# set color and linestyle of grid\n",
    "ax.xaxis.grid(True, color = \"#888888\", linestyle = 'solid',\n",
    "             linewidth = 0.5)\n",
    "ax.yaxis.grid(True, color = \"#888888\", linestyle = 'solid',\n",
    "             linewidth = 0.5)\n",
    "\n",
    "# set number of radial axes and remove labels\n",
    "plt.xticks(x_as[:-1],[])\n",
    "\n",
    "# set yticks\n",
    "y_ticks_setting = np.linspace(0,1, num = 5)\n",
    "plt.yticks(y_ticks_setting, y_ticks_setting.astype(str))\n",
    "\n",
    "# plot actual data\n",
    "ax.plot(x_as, mean_values, linewidth = 0, linestyle = 'solid', zorder = 3)\n",
    "\n",
    "# fill area\n",
    "ax.fill(x_as, mean_values, 'b', alpha = 0.3)\n",
    "\n",
    "# set axis limit\n",
    "ax.set_ylim(0,1)\n",
    "\n",
    "# draw ytick labels to make sure they fit properly\n",
    "for i in range(N):\n",
    "    angle_rad = i / float(N) * 2 * pi\n",
    "\n",
    "    if angle_rad == 0:\n",
    "        ha, distance_ax = \"center\", 1.1\n",
    "    elif 0 < angle_rad < pi:\n",
    "        ha, distance_ax = \"left\", 1\n",
    "    elif angle_rad == pi:\n",
    "        ha, distance_ax = \"center\", 1\n",
    "    else:\n",
    "        ha, distance_ax = \"right\", 1\n",
    "\n",
    "    ax.text(angle_rad, 0.1 + distance_ax, \n",
    "            cat_labels[i], size=10, \n",
    "            horizontalalignment=ha, \n",
    "            verticalalignment=\"center\")\n",
    "\n",
    "# Show polar plot\n",
    "plt.show()"
   ]
  },
  {
   "cell_type": "code",
   "execution_count": 348,
   "metadata": {},
   "outputs": [
    {
     "data": {
      "image/png": "[encoded data removed]",
      "text/plain": [
       "<matplotlib.figure.Figure at 0x139580470>"
      ]
     },
     "metadata": {},
     "output_type": "display_data"
    }
   ],
   "source": [
    "# outliers radar chart\n",
    "\n",
    "# get mean values for each variable\n",
    "mean_values = outliers_rfm_scaled[features].apply(lambda x: np.mean(x)).values.tolist()\n",
    "\n",
    "N = len(cat_labels)\n",
    "x_as = [n / float(N) * pi * 2 for n in range(N)]\n",
    "\n",
    "mean_values += mean_values[:1]\n",
    "x_as += x_as[:1]\n",
    "\n",
    "# set color of axes\n",
    "plt.rc('axes', linewidth = 0.5, edgecolor = \"#888888\")\n",
    "\n",
    "# create polar plot\n",
    "ax = plt.subplot(111, polar = True)\n",
    "\n",
    "# set clockwise rotation\n",
    "ax.set_theta_offset(pi / 2)\n",
    "ax.set_theta_direction(-1)\n",
    "\n",
    "# set position of y-labels\n",
    "ax.set_rlabel_position(0)\n",
    "\n",
    "# set color and linestyle of grid\n",
    "ax.xaxis.grid(True, color = \"#888888\", linestyle = 'solid',\n",
    "             linewidth = 0.5)\n",
    "ax.yaxis.grid(True, color = \"#888888\", linestyle = 'solid',\n",
    "             linewidth = 0.5)\n",
    "\n",
    "# set number of radial axes and remove labels\n",
    "plt.xticks(x_as[:-1],[])\n",
    "\n",
    "# set yticks\n",
    "y_ticks_setting = np.linspace(0,1, num = 5)\n",
    "plt.yticks(y_ticks_setting, y_ticks_setting.astype(str))\n",
    "\n",
    "# plot actual data\n",
    "ax.plot(x_as, mean_values, linewidth = 0, linestyle = 'solid', zorder = 3)\n",
    "\n",
    "# fill area\n",
    "ax.fill(x_as, mean_values, 'b', alpha = 0.3)\n",
    "\n",
    "# set axis limit\n",
    "ax.set_ylim(0,1)\n",
    "\n",
    "# draw ytick labels to make sure they fit properly\n",
    "for i in range(N):\n",
    "    angle_rad = i / float(N) * 2 * pi\n",
    "\n",
    "    if angle_rad == 0:\n",
    "        ha, distance_ax = \"center\", 1.1\n",
    "    elif 0 < angle_rad < pi:\n",
    "        ha, distance_ax = \"left\", 1\n",
    "    elif angle_rad == pi:\n",
    "        ha, distance_ax = \"center\", 1\n",
    "    else:\n",
    "        ha, distance_ax = \"right\", 1\n",
    "\n",
    "    ax.text(angle_rad, 0.1 + distance_ax, \n",
    "            cat_labels[i], size=10, \n",
    "            horizontalalignment=ha, \n",
    "            verticalalignment=\"center\")\n",
    "\n",
    "# Show polar plot\n",
    "plt.show()"
   ]
  },
  {
   "cell_type": "markdown",
   "metadata": {},
   "source": [
    "### in general"
   ]
  },
  {
   "cell_type": "code",
   "execution_count": 349,
   "metadata": {},
   "outputs": [
    {
     "data": {
      "text/plain": [
       "<matplotlib.axes._subplots.AxesSubplot at 0x11bcae588>"
      ]
     },
     "execution_count": 349,
     "metadata": {},
     "output_type": "execute_result"
    },
    {
     "data": {
      "image/png": "[encoded data removed]",
      "text/plain": [
       "<matplotlib.figure.Figure at 0x11df390f0>"
      ]
     },
     "metadata": {},
     "output_type": "display_data"
    }
   ],
   "source": [
    "# AOV\n",
    "sns.boxplot(data = df_clusters[df_clusters.dbscan_labels != 'outlier'],\n",
    "           x = 'dbscan_labels',\n",
    "           y = 'AOV')"
   ]
  },
  {
   "cell_type": "code",
   "execution_count": 350,
   "metadata": {
    "scrolled": true
   },
   "outputs": [
    {
     "data": {
      "text/plain": [
       "<matplotlib.axes._subplots.AxesSubplot at 0x1398b0c18>"
      ]
     },
     "execution_count": 350,
     "metadata": {},
     "output_type": "execute_result"
    },
    {
     "data": {
      "image/png": "[encoded data removed]",
      "text/plain": [
       "<matplotlib.figure.Figure at 0x139a017f0>"
      ]
     },
     "metadata": {},
     "output_type": "display_data"
    }
   ],
   "source": [
    "# cancelled_mean\n",
    "sns.boxplot(data = df_clusters[df_clusters.dbscan_labels != 'outlier'],\n",
    "           x = 'dbscan_labels',\n",
    "           y = 'cancelled_mean')"
   ]
  },
  {
   "cell_type": "code",
   "execution_count": 402,
   "metadata": {},
   "outputs": [
    {
     "data": {
      "image/png": "[encoded data removed]",
      "text/plain": [
       "<matplotlib.figure.Figure at 0x1469efb38>"
      ]
     },
     "metadata": {},
     "output_type": "display_data"
    }
   ],
   "source": [
    "# frequency\n",
    "sns.boxplot(data = df_clusters[df_clusters.dbscan_labels != 'outlier'],\n",
    "           x = 'dbscan_labels',\n",
    "           y = 'frequency')\n",
    "plt.xlabel(\"Clusters\")\n",
    "plt.xticks([0,1,2], [1,2,3])\n",
    "plt.title(\"Frequency of purchase by each cluster\")\n",
    "plt.show()"
   ]
  },
  {
   "cell_type": "code",
   "execution_count": 406,
   "metadata": {},
   "outputs": [
    {
     "data": {
      "image/png": "[encoded data removed]",
      "text/plain": [
       "<matplotlib.figure.Figure at 0x147b44b00>"
      ]
     },
     "metadata": {},
     "output_type": "display_data"
    }
   ],
   "source": [
    "# time_since_last_purchase\n",
    "sns.boxplot(data = df_clusters[df_clusters.dbscan_labels != 'outlier'],\n",
    "           x = 'dbscan_labels',\n",
    "           y = 'time_since_last_purchase')\n",
    "plt.xlabel(\"Clusters\")\n",
    "plt.xticks([0,1,2], [1,2,3])\n",
    "plt.title(\"Time since last purchase by cluster\")\n",
    "plt.show()"
   ]
  },
  {
   "cell_type": "code",
   "execution_count": 405,
   "metadata": {
    "scrolled": true
   },
   "outputs": [
    {
     "data": {
      "image/png": "[encoded data removed]",
      "text/plain": [
       "<matplotlib.figure.Figure at 0x1476c4470>"
      ]
     },
     "metadata": {},
     "output_type": "display_data"
    }
   ],
   "source": [
    "# time_since_last_purchase\n",
    "sns.boxplot(data = df_clusters[df_clusters.dbscan_labels != 'outlier'],\n",
    "           x = 'dbscan_labels',\n",
    "           y = 'unique_products_perc')\n",
    "plt.xlabel(\"Clusters\")\n",
    "plt.xticks([0,1,2], [1,2,3])\n",
    "plt.title(\"Percentage of unique products bought by cluster\")\n",
    "plt.show()"
   ]
  },
  {
   "cell_type": "markdown",
   "metadata": {},
   "source": [
    "## more values"
   ]
  },
  {
   "cell_type": "code",
   "execution_count": 354,
   "metadata": {
    "scrolled": true
   },
   "outputs": [],
   "source": [
    "# reindex\n",
    "df_clusters.index = df_clusters.customer_id\n",
    "\n",
    "total_revenue = df.groupby(by = 'CustomerID')['revenue'].sum()\n",
    "total_revenue.head()\n",
    "\n",
    "min_spent = df.groupby(by = 'CustomerID')['revenue'].min()\n",
    "max_spent = df.groupby(by = 'CustomerID')['revenue'].max()\n",
    "median_spent = df.groupby(by = 'CustomerID')['revenue'].median()\n",
    "\n",
    "mean_quantity = df.groupby(by = 'CustomerID')['Quantity'].mean()\n",
    "median_quantity = df.groupby(by = 'CustomerID')['Quantity'].median()\n",
    "max_quantity = df.groupby(by = 'CustomerID')['Quantity'].max()\n",
    "min_quantity = df.groupby(by = 'CustomerID')['Quantity'].min()\n",
    "\n",
    "cancelled_num = df.groupby(by = 'CustomerID')['cancelled'].sum()\n",
    "\n",
    "time_since_first_purchase = df.groupby(by = 'CustomerID')['time_since'].max()"
   ]
  },
  {
   "cell_type": "code",
   "execution_count": 464,
   "metadata": {},
   "outputs": [],
   "source": [
    "df_clusters['tot_revenue'] = total_revenue\n",
    "df_clusters['min_spent'] = min_spent\n",
    "df_clusters['max_spent'] = max_spent\n",
    "df_clusters['median_spent'] = median_spent\n",
    "df_clusters['mean_quantity'] = mean_quantity\n",
    "df_clusters['median_quantity'] = median_quantity\n",
    "df_clusters['max_quantity'] = max_quantity\n",
    "df_clusters['min_quantity'] = min_quantity\n",
    "df_clusters['tot_cancelled'] = cancelled_num\n",
    "df_clusters['time_since_first_purchase'] = time_since_first_purchase\n",
    "df_clusters['time_as_customer'] = df_clusters.time_since_first_purchase - df_clusters.time_since_last_purchase"
   ]
  },
  {
   "cell_type": "code",
   "execution_count": 465,
   "metadata": {},
   "outputs": [
    {
     "data": {
      "text/html": [
       "<div>\n",
       "<style>\n",
       "    .dataframe thead tr:only-child th {\n",
       "        text-align: right;\n",
       "    }\n",
       "\n",
       "    .dataframe thead th {\n",
       "        text-align: left;\n",
       "    }\n",
       "\n",
       "    .dataframe tbody tr th {\n",
       "        vertical-align: top;\n",
       "    }\n",
       "</style>\n",
       "<table border=\"1\" class=\"dataframe\">\n",
       "  <thead>\n",
       "    <tr style=\"text-align: right;\">\n",
       "      <th></th>\n",
       "      <th>AOV</th>\n",
       "      <th>cancelled_mean</th>\n",
       "      <th>customer_id</th>\n",
       "      <th>dbscan_labels</th>\n",
       "      <th>frequency</th>\n",
       "      <th>kmeans_cluster</th>\n",
       "      <th>time_since_last_purchase</th>\n",
       "      <th>unique_products_perc</th>\n",
       "      <th>tot_revenue</th>\n",
       "      <th>min_spent</th>\n",
       "      <th>max_spent</th>\n",
       "      <th>median_spent</th>\n",
       "      <th>mean_quantity</th>\n",
       "      <th>median_quantity</th>\n",
       "      <th>max_quantity</th>\n",
       "      <th>min_quantity</th>\n",
       "      <th>tot_cancelled</th>\n",
       "      <th>time_since_first_purchase</th>\n",
       "      <th>time_as_customer</th>\n",
       "    </tr>\n",
       "    <tr>\n",
       "      <th>customer_id</th>\n",
       "      <th></th>\n",
       "      <th></th>\n",
       "      <th></th>\n",
       "      <th></th>\n",
       "      <th></th>\n",
       "      <th></th>\n",
       "      <th></th>\n",
       "      <th></th>\n",
       "      <th></th>\n",
       "      <th></th>\n",
       "      <th></th>\n",
       "      <th></th>\n",
       "      <th></th>\n",
       "      <th></th>\n",
       "      <th></th>\n",
       "      <th></th>\n",
       "      <th></th>\n",
       "      <th></th>\n",
       "      <th></th>\n",
       "    </tr>\n",
       "  </thead>\n",
       "  <tbody>\n",
       "    <tr>\n",
       "      <th>12346.0</th>\n",
       "      <td>0.436137</td>\n",
       "      <td>0.5</td>\n",
       "      <td>12346.0</td>\n",
       "      <td>0</td>\n",
       "      <td>0.004386</td>\n",
       "      <td>0</td>\n",
       "      <td>0.871314</td>\n",
       "      <td>0.423077</td>\n",
       "      <td>0.00</td>\n",
       "      <td>-77183.60</td>\n",
       "      <td>77183.6</td>\n",
       "      <td>0.00</td>\n",
       "      <td>0.000000</td>\n",
       "      <td>0.0</td>\n",
       "      <td>74215</td>\n",
       "      <td>-74215</td>\n",
       "      <td>1.0</td>\n",
       "      <td>325.0</td>\n",
       "      <td>324.128686</td>\n",
       "    </tr>\n",
       "    <tr>\n",
       "      <th>12347.0</th>\n",
       "      <td>0.503801</td>\n",
       "      <td>0.0</td>\n",
       "      <td>12347.0</td>\n",
       "      <td>1</td>\n",
       "      <td>0.793860</td>\n",
       "      <td>1</td>\n",
       "      <td>0.005362</td>\n",
       "      <td>0.499155</td>\n",
       "      <td>4310.00</td>\n",
       "      <td>5.04</td>\n",
       "      <td>249.6</td>\n",
       "      <td>17.00</td>\n",
       "      <td>13.505495</td>\n",
       "      <td>12.0</td>\n",
       "      <td>240</td>\n",
       "      <td>2</td>\n",
       "      <td>0.0</td>\n",
       "      <td>367.0</td>\n",
       "      <td>366.994638</td>\n",
       "    </tr>\n",
       "    <tr>\n",
       "      <th>12348.0</th>\n",
       "      <td>0.601790</td>\n",
       "      <td>0.0</td>\n",
       "      <td>12348.0</td>\n",
       "      <td>2</td>\n",
       "      <td>0.131579</td>\n",
       "      <td>2</td>\n",
       "      <td>0.201072</td>\n",
       "      <td>0.665012</td>\n",
       "      <td>1797.24</td>\n",
       "      <td>13.20</td>\n",
       "      <td>240.0</td>\n",
       "      <td>41.76</td>\n",
       "      <td>75.516129</td>\n",
       "      <td>72.0</td>\n",
       "      <td>144</td>\n",
       "      <td>1</td>\n",
       "      <td>0.0</td>\n",
       "      <td>358.0</td>\n",
       "      <td>357.798928</td>\n",
       "    </tr>\n",
       "    <tr>\n",
       "      <th>12349.0</th>\n",
       "      <td>0.504929</td>\n",
       "      <td>0.0</td>\n",
       "      <td>12349.0</td>\n",
       "      <td>2</td>\n",
       "      <td>0.315789</td>\n",
       "      <td>2</td>\n",
       "      <td>0.048257</td>\n",
       "      <td>1.000000</td>\n",
       "      <td>1757.55</td>\n",
       "      <td>6.64</td>\n",
       "      <td>300.0</td>\n",
       "      <td>17.70</td>\n",
       "      <td>8.643836</td>\n",
       "      <td>6.0</td>\n",
       "      <td>36</td>\n",
       "      <td>1</td>\n",
       "      <td>0.0</td>\n",
       "      <td>18.0</td>\n",
       "      <td>17.951743</td>\n",
       "    </tr>\n",
       "    <tr>\n",
       "      <th>12350.0</th>\n",
       "      <td>0.492342</td>\n",
       "      <td>0.0</td>\n",
       "      <td>12350.0</td>\n",
       "      <td>0</td>\n",
       "      <td>0.070175</td>\n",
       "      <td>0</td>\n",
       "      <td>0.831099</td>\n",
       "      <td>1.000000</td>\n",
       "      <td>334.40</td>\n",
       "      <td>8.50</td>\n",
       "      <td>40.0</td>\n",
       "      <td>19.80</td>\n",
       "      <td>11.588235</td>\n",
       "      <td>12.0</td>\n",
       "      <td>24</td>\n",
       "      <td>1</td>\n",
       "      <td>0.0</td>\n",
       "      <td>310.0</td>\n",
       "      <td>309.168901</td>\n",
       "    </tr>\n",
       "  </tbody>\n",
       "</table>\n",
       "</div>"
      ],
      "text/plain": [
       "                  AOV  cancelled_mean  customer_id dbscan_labels  frequency  \\\n",
       "customer_id                                                                   \n",
       "12346.0      0.436137             0.5      12346.0             0   0.004386   \n",
       "12347.0      0.503801             0.0      12347.0             1   0.793860   \n",
       "12348.0      0.601790             0.0      12348.0             2   0.131579   \n",
       "12349.0      0.504929             0.0      12349.0             2   0.315789   \n",
       "12350.0      0.492342             0.0      12350.0             0   0.070175   \n",
       "\n",
       "            kmeans_cluster  time_since_last_purchase  unique_products_perc  \\\n",
       "customer_id                                                                  \n",
       "12346.0                  0                  0.871314              0.423077   \n",
       "12347.0                  1                  0.005362              0.499155   \n",
       "12348.0                  2                  0.201072              0.665012   \n",
       "12349.0                  2                  0.048257              1.000000   \n",
       "12350.0                  0                  0.831099              1.000000   \n",
       "\n",
       "             tot_revenue  min_spent  max_spent  median_spent  mean_quantity  \\\n",
       "customer_id                                                                   \n",
       "12346.0             0.00  -77183.60    77183.6          0.00       0.000000   \n",
       "12347.0          4310.00       5.04      249.6         17.00      13.505495   \n",
       "12348.0          1797.24      13.20      240.0         41.76      75.516129   \n",
       "12349.0          1757.55       6.64      300.0         17.70       8.643836   \n",
       "12350.0           334.40       8.50       40.0         19.80      11.588235   \n",
       "\n",
       "             median_quantity  max_quantity  min_quantity  tot_cancelled  \\\n",
       "customer_id                                                               \n",
       "12346.0                  0.0         74215        -74215            1.0   \n",
       "12347.0                 12.0           240             2            0.0   \n",
       "12348.0                 72.0           144             1            0.0   \n",
       "12349.0                  6.0            36             1            0.0   \n",
       "12350.0                 12.0            24             1            0.0   \n",
       "\n",
       "             time_since_first_purchase  time_as_customer  \n",
       "customer_id                                               \n",
       "12346.0                          325.0        324.128686  \n",
       "12347.0                          367.0        366.994638  \n",
       "12348.0                          358.0        357.798928  \n",
       "12349.0                           18.0         17.951743  \n",
       "12350.0                          310.0        309.168901  "
      ]
     },
     "execution_count": 465,
     "metadata": {},
     "output_type": "execute_result"
    }
   ],
   "source": [
    "df_clusters.head()"
   ]
  },
  {
   "cell_type": "code",
   "execution_count": 407,
   "metadata": {},
   "outputs": [
    {
     "data": {
      "image/png": "[encoded data removed]",
      "text/plain": [
       "<matplotlib.figure.Figure at 0x147d01b70>"
      ]
     },
     "metadata": {},
     "output_type": "display_data"
    }
   ],
   "source": [
    "# total revenue\n",
    "sns.boxplot(data = df_clusters[df_clusters.dbscan_labels != 'outlier'],\n",
    "           x = 'dbscan_labels',\n",
    "           y = 'tot_revenue')\n",
    "plt.xlabel(\"Clusters\")\n",
    "plt.xticks([0,1,2], [1,2,3])\n",
    "plt.title(\"Average total revenue by cluster\")\n",
    "plt.show()"
   ]
  },
  {
   "cell_type": "code",
   "execution_count": 408,
   "metadata": {},
   "outputs": [
    {
     "data": {
      "image/png": "[encoded data removed]",
      "text/plain": [
       "<matplotlib.figure.Figure at 0x1474b9c88>"
      ]
     },
     "metadata": {},
     "output_type": "display_data"
    }
   ],
   "source": [
    "# total cancelled num\n",
    "sns.boxplot(data = df_clusters[df_clusters.dbscan_labels != 'outlier'],\n",
    "           x = 'dbscan_labels',\n",
    "           y = 'tot_cancelled')\n",
    "plt.xlabel(\"Clusters\")\n",
    "plt.xticks([0,1,2], [1,2,3])\n",
    "plt.title(\"Average total cancelled orders by cluster\")\n",
    "plt.show()"
   ]
  },
  {
   "cell_type": "code",
   "execution_count": 466,
   "metadata": {},
   "outputs": [
    {
     "data": {
      "image/png": "[encoded data removed]",
      "text/plain": [
       "<matplotlib.figure.Figure at 0x15f439f60>"
      ]
     },
     "metadata": {},
     "output_type": "display_data"
    }
   ],
   "source": [
    "# time as customer\n",
    "sns.boxplot(data = df_clusters[df_clusters.dbscan_labels != 'outlier'],\n",
    "           x = 'dbscan_labels',\n",
    "           y = 'time_as_customer')\n",
    "plt.xlabel(\"Clusters\")\n",
    "plt.xticks([0,1,2], [1,2,3])\n",
    "plt.title(\"Average time as customer by cluster\")\n",
    "plt.show()"
   ]
  },
  {
   "cell_type": "markdown",
   "metadata": {},
   "source": [
    "## Profiling the segmentation 2: profiling variables"
   ]
  },
  {
   "cell_type": "markdown",
   "metadata": {},
   "source": [
    "Dataframes\n",
    "\n",
    "\n",
    "cluster_1\n",
    "cluster_2\n",
    "cluster_3\n",
    "outliers\n",
    "\n",
    "cluster_1_rfm \n",
    "cluster_2_rfm \n",
    "cluster_3_rfm \n",
    "outliers_rfm \n",
    "\n",
    "cluster_1_rfm_scaled \n",
    "cluster_2_rfm_scaled \n",
    "cluster_3_rfm_scaled \n",
    "outliers_rfm_scaled "
   ]
  },
  {
   "cell_type": "code",
   "execution_count": 380,
   "metadata": {},
   "outputs": [
    {
     "data": {
      "text/plain": [
       "United Kingdom          0.903778\n",
       "Germany                 0.026852\n",
       "France                  0.013740\n",
       "Belgium                 0.007456\n",
       "Switzerland             0.006954\n",
       "Portugal                0.005152\n",
       "Italy                   0.004943\n",
       "Spain                   0.003728\n",
       "Japan                   0.003226\n",
       "Unspecified             0.002346\n",
       "Greece                  0.002262\n",
       "Austria                 0.002178\n",
       "Netherlands             0.002053\n",
       "Lebanon                 0.001885\n",
       "Australia               0.001676\n",
       "Cyprus                  0.001466\n",
       "Lithuania               0.001466\n",
       "Brazil                  0.001340\n",
       "United Arab Emirates    0.001257\n",
       "Channel Islands         0.001131\n",
       "USA                     0.000922\n",
       "Sweden                  0.000922\n",
       "Finland                 0.000922\n",
       "Bahrain                 0.000712\n",
       "Norway                  0.000712\n",
       "Saudi Arabia            0.000419\n",
       "Canada                  0.000419\n",
       "Israel                  0.000084\n",
       "Name: Country, dtype: float64"
      ]
     },
     "execution_count": 380,
     "metadata": {},
     "output_type": "execute_result"
    }
   ],
   "source": [
    "cluster_1.Country.value_counts() / len(cluster_1)"
   ]
  },
  {
   "cell_type": "code",
   "execution_count": 383,
   "metadata": {},
   "outputs": [
    {
     "data": {
      "text/plain": [
       "Europe           0.986134\n",
       "Middle East      0.003938\n",
       "Asia             0.003226\n",
       "Unspecified      0.002346\n",
       "Oceania          0.001676\n",
       "North America    0.001340\n",
       "South America    0.001340\n",
       "Name: Continent, dtype: float64"
      ]
     },
     "execution_count": 383,
     "metadata": {},
     "output_type": "execute_result"
    }
   ],
   "source": [
    "cluster_1.Continent.value_counts() / len(cluster_1)"
   ]
  },
  {
   "cell_type": "code",
   "execution_count": 384,
   "metadata": {},
   "outputs": [
    {
     "data": {
      "text/plain": [
       "United Kingdom     0.900549\n",
       "Germany            0.021660\n",
       "France             0.021309\n",
       "Belgium            0.009780\n",
       "Switzerland        0.007476\n",
       "Spain              0.006455\n",
       "Italy              0.003889\n",
       "Norway             0.003767\n",
       "Sweden             0.002304\n",
       "Cyprus             0.002116\n",
       "Poland             0.002026\n",
       "Singapore          0.001871\n",
       "Channel Islands    0.001765\n",
       "USA                0.001650\n",
       "Denmark            0.001503\n",
       "Iceland            0.001487\n",
       "Israel             0.001397\n",
       "EIRE               0.001324\n",
       "Austria            0.001291\n",
       "Canada             0.001103\n",
       "Unspecified        0.001095\n",
       "Finland            0.001046\n",
       "Portugal           0.000874\n",
       "Australia          0.000817\n",
       "Netherlands        0.000776\n",
       "Malta              0.000670\n",
       "Name: Country, dtype: float64"
      ]
     },
     "execution_count": 384,
     "metadata": {},
     "output_type": "execute_result"
    }
   ],
   "source": [
    "cluster_2.Country.value_counts() / len(cluster_2)"
   ]
  },
  {
   "cell_type": "code",
   "execution_count": 385,
   "metadata": {},
   "outputs": [
    {
     "data": {
      "text/plain": [
       "Europe           0.989950\n",
       "Middle East      0.003513\n",
       "North America    0.002753\n",
       "Asia             0.001871\n",
       "Unspecified      0.001095\n",
       "Oceania          0.000817\n",
       "Name: Continent, dtype: float64"
      ]
     },
     "execution_count": 385,
     "metadata": {},
     "output_type": "execute_result"
    }
   ],
   "source": [
    "cluster_2.Continent.value_counts() / len(cluster_2)"
   ]
  },
  {
   "cell_type": "code",
   "execution_count": 382,
   "metadata": {},
   "outputs": [
    {
     "data": {
      "text/plain": [
       "United Kingdom          0.894914\n",
       "Germany                 0.024396\n",
       "France                  0.022090\n",
       "Portugal                0.007822\n",
       "Spain                   0.007155\n",
       "Switzerland             0.006127\n",
       "Belgium                 0.005085\n",
       "Finland                 0.003404\n",
       "Italy                   0.002904\n",
       "Austria                 0.002654\n",
       "Norway                  0.002612\n",
       "Denmark                 0.002348\n",
       "Sweden                  0.002195\n",
       "Australia               0.002153\n",
       "Channel Islands         0.002014\n",
       "Netherlands             0.001973\n",
       "Poland                  0.001292\n",
       "Greece                  0.001278\n",
       "Israel                  0.001070\n",
       "Cyprus                  0.001028\n",
       "USA                     0.000931\n",
       "European Community      0.000847\n",
       "RSA                     0.000806\n",
       "Unspecified             0.000750\n",
       "Malta                   0.000625\n",
       "United Arab Emirates    0.000528\n",
       "Japan                   0.000514\n",
       "Czech Republic          0.000417\n",
       "Canada                  0.000069\n",
       "Name: Country, dtype: float64"
      ]
     },
     "execution_count": 382,
     "metadata": {},
     "output_type": "execute_result"
    }
   ],
   "source": [
    "cluster_3.Country.value_counts() / len(cluster_3)"
   ]
  },
  {
   "cell_type": "code",
   "execution_count": 386,
   "metadata": {},
   "outputs": [
    {
     "data": {
      "text/plain": [
       "Europe           0.992150\n",
       "Middle East      0.002626\n",
       "Oceania          0.002153\n",
       "North America    0.001000\n",
       "Africa           0.000806\n",
       "Unspecified      0.000750\n",
       "Asia             0.000514\n",
       "Name: Continent, dtype: float64"
      ]
     },
     "execution_count": 386,
     "metadata": {},
     "output_type": "execute_result"
    }
   ],
   "source": [
    "cluster_3.Continent.value_counts() / len(cluster_3)"
   ]
  },
  {
   "cell_type": "code",
   "execution_count": 456,
   "metadata": {},
   "outputs": [
    {
     "data": {
      "text/plain": [
       "Index(['InvoiceNo', 'StockCode', 'Description', 'Quantity', 'InvoiceDate',\n",
       "       'UnitPrice', 'CustomerID', 'Country', 'cancelled', 'revenue',\n",
       "       'discount', 'Continent', 'damaged', 'Date', 'Time', 'time_since',\n",
       "       'cluster'],\n",
       "      dtype='object')"
      ]
     },
     "execution_count": 456,
     "metadata": {},
     "output_type": "execute_result"
    }
   ],
   "source": [
    "df.columns"
   ]
  },
  {
   "cell_type": "code",
   "execution_count": 473,
   "metadata": {},
   "outputs": [
    {
     "data": {
      "text/plain": [
       "15.878492794906574"
      ]
     },
     "execution_count": 473,
     "metadata": {},
     "output_type": "execute_result"
    }
   ],
   "source": [
    "cluster_1.revenue.mean()"
   ]
  },
  {
   "cell_type": "code",
   "execution_count": 455,
   "metadata": {},
   "outputs": [
    {
     "data": {
      "text/plain": [
       "Description\n",
       "set/3 tall glass candle holder pink    1.0\n",
       "rococo wall miror                      1.0\n",
       "set of 4 knick knack tins  doiley      1.0\n",
       "glass and beads bracelet ivory         1.0\n",
       "glass and painted beads bracelet ol    1.0\n",
       "fire polished glass bracelet black     1.0\n",
       "ant silver turquoise boudicca ring     1.0\n",
       "m/colour pom-pom curtain               1.0\n",
       "wall art , the magic forest            1.0\n",
       "black diamond cluster necklace         1.0\n",
       "Name: Quantity, dtype: float64"
      ]
     },
     "execution_count": 455,
     "metadata": {},
     "output_type": "execute_result"
    }
   ],
   "source": [
    "(cluster_3.groupby('Description')['Quantity'].count()/df.groupby('Description')['Quantity'].count()).sort_values(ascending = False)[:10]"
   ]
  },
  {
   "cell_type": "code",
   "execution_count": 452,
   "metadata": {},
   "outputs": [
    {
     "data": {
      "text/plain": [
       "Description\n",
       "silver book mark with beads           1.0\n",
       "pink/amethyst/gold necklace           1.0\n",
       "set 10 cards hanging baubles 17080    1.0\n",
       "curious images scrap book set         1.0\n",
       "crystal stiletto phone charm          1.0\n",
       "set of 6 easter rainbow chicks        1.0\n",
       "crochet lilac/red bear keyring        1.0\n",
       "crochet dog keyring                   1.0\n",
       "new baroque b'fly necklace pink       1.0\n",
       "silver black orbit bracelet           1.0\n",
       "Name: Quantity, dtype: float64"
      ]
     },
     "execution_count": 452,
     "metadata": {},
     "output_type": "execute_result"
    }
   ],
   "source": [
    "(cluster_2.groupby('Description')['Quantity'].count() / df.groupby('Description')['Quantity'].count()).sort_values(ascending = False)[:10]"
   ]
  },
  {
   "cell_type": "code",
   "execution_count": 453,
   "metadata": {},
   "outputs": [
    {
     "data": {
      "text/plain": [
       "Description\n",
       "pink christmas flock droplet         1.0\n",
       "cake stand lace white                1.0\n",
       "pink baroque flock candle holder     1.0\n",
       "hot water bottle babushka large      1.0\n",
       "glass bell jar large                 1.0\n",
       "amber bertie glass bead bag charm    1.0\n",
       "fire polished glass neckl gold       1.0\n",
       "glass bead hoop necklace black       1.0\n",
       "laser cut multi strand necklace      1.0\n",
       "pale pink/amethyst stone necklace    1.0\n",
       "Name: Quantity, dtype: float64"
      ]
     },
     "execution_count": 453,
     "metadata": {},
     "output_type": "execute_result"
    }
   ],
   "source": [
    "(cluster_1.groupby('Description')['Quantity'].count() / df.groupby('Description')['Quantity'].count()).sort_values(ascending = False)[:10]"
   ]
  },
  {
   "cell_type": "code",
   "execution_count": null,
   "metadata": {
    "collapsed": true
   },
   "outputs": [],
   "source": []
  }
 ],
 "metadata": {
  "kernelspec": {
   "display_name": "Python 3",
   "language": "python",
   "name": "python3"
  },
  "language_info": {
   "codemirror_mode": {
    "name": "ipython",
    "version": 3
   },
   "file_extension": ".py",
   "mimetype": "text/x-python",
   "name": "python",
   "nbconvert_exporter": "python",
   "pygments_lexer": "ipython3",
   "version": "3.6.1"
  }
 },
 "nbformat": 4,
 "nbformat_minor": 2
}
