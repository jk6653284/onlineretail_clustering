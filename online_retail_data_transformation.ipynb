{
 "cells": [
  {
   "cell_type": "code",
   "execution_count": 1,
   "metadata": {
    "collapsed": true
   },
   "outputs": [],
   "source": [
    "# libraries\n",
    "import pandas as pd\n",
    "import numpy as np\n",
    "import matplotlib.pyplot as plt\n",
    "import seaborn as sns\n",
    "import datetime\n",
    "%matplotlib inline\n",
    "\n",
    "pd.set_option(\"max_columns\", None)"
   ]
  },
  {
   "cell_type": "code",
   "execution_count": 2,
   "metadata": {
    "collapsed": true
   },
   "outputs": [],
   "source": [
    "df = pd.read_csv(\"online_retail_cleaned.csv\")"
   ]
  },
  {
   "cell_type": "code",
   "execution_count": 3,
   "metadata": {
    "collapsed": true
   },
   "outputs": [],
   "source": [
    "# cluster using recency,frequency, monetary\n",
    "# so that we can profile other profiling variables\n",
    "\n",
    "# need to transform dataset to calculate recency, frequency, and monetary value by each customerid"
   ]
  },
  {
   "cell_type": "code",
   "execution_count": 4,
   "metadata": {
    "collapsed": true
   },
   "outputs": [],
   "source": [
    "df.drop(\"Unnamed: 0\", axis = 1, inplace = True)"
   ]
  },
  {
   "cell_type": "code",
   "execution_count": 5,
   "metadata": {
    "collapsed": true
   },
   "outputs": [],
   "source": [
    "df.reset_index(drop = True, inplace = True)"
   ]
  },
  {
   "cell_type": "code",
   "execution_count": 6,
   "metadata": {},
   "outputs": [
    {
     "data": {
      "text/html": [
       "<div>\n",
       "<style>\n",
       "    .dataframe thead tr:only-child th {\n",
       "        text-align: right;\n",
       "    }\n",
       "\n",
       "    .dataframe thead th {\n",
       "        text-align: left;\n",
       "    }\n",
       "\n",
       "    .dataframe tbody tr th {\n",
       "        vertical-align: top;\n",
       "    }\n",
       "</style>\n",
       "<table border=\"1\" class=\"dataframe\">\n",
       "  <thead>\n",
       "    <tr style=\"text-align: right;\">\n",
       "      <th></th>\n",
       "      <th>InvoiceNo</th>\n",
       "      <th>StockCode</th>\n",
       "      <th>Description</th>\n",
       "      <th>Quantity</th>\n",
       "      <th>InvoiceDate</th>\n",
       "      <th>UnitPrice</th>\n",
       "      <th>CustomerID</th>\n",
       "      <th>Country</th>\n",
       "      <th>cancelled</th>\n",
       "      <th>revenue</th>\n",
       "      <th>discount</th>\n",
       "      <th>Continent</th>\n",
       "      <th>damaged</th>\n",
       "      <th>Date</th>\n",
       "      <th>Time</th>\n",
       "    </tr>\n",
       "  </thead>\n",
       "  <tbody>\n",
       "    <tr>\n",
       "      <th>0</th>\n",
       "      <td>536365</td>\n",
       "      <td>85123A</td>\n",
       "      <td>white hanging heart t-light holder</td>\n",
       "      <td>6</td>\n",
       "      <td>2010-12-01 08:26:00</td>\n",
       "      <td>2.55</td>\n",
       "      <td>17850.0</td>\n",
       "      <td>United Kingdom</td>\n",
       "      <td>0.0</td>\n",
       "      <td>15.30</td>\n",
       "      <td>0</td>\n",
       "      <td>Europe</td>\n",
       "      <td>0</td>\n",
       "      <td>2010-12-01</td>\n",
       "      <td>08:26:00</td>\n",
       "    </tr>\n",
       "    <tr>\n",
       "      <th>1</th>\n",
       "      <td>536365</td>\n",
       "      <td>71053</td>\n",
       "      <td>white metal lantern</td>\n",
       "      <td>6</td>\n",
       "      <td>2010-12-01 08:26:00</td>\n",
       "      <td>3.39</td>\n",
       "      <td>17850.0</td>\n",
       "      <td>United Kingdom</td>\n",
       "      <td>0.0</td>\n",
       "      <td>20.34</td>\n",
       "      <td>0</td>\n",
       "      <td>Europe</td>\n",
       "      <td>0</td>\n",
       "      <td>2010-12-01</td>\n",
       "      <td>08:26:00</td>\n",
       "    </tr>\n",
       "    <tr>\n",
       "      <th>2</th>\n",
       "      <td>536365</td>\n",
       "      <td>84406B</td>\n",
       "      <td>cream cupid hearts coat hanger</td>\n",
       "      <td>8</td>\n",
       "      <td>2010-12-01 08:26:00</td>\n",
       "      <td>2.75</td>\n",
       "      <td>17850.0</td>\n",
       "      <td>United Kingdom</td>\n",
       "      <td>0.0</td>\n",
       "      <td>22.00</td>\n",
       "      <td>0</td>\n",
       "      <td>Europe</td>\n",
       "      <td>0</td>\n",
       "      <td>2010-12-01</td>\n",
       "      <td>08:26:00</td>\n",
       "    </tr>\n",
       "    <tr>\n",
       "      <th>3</th>\n",
       "      <td>536365</td>\n",
       "      <td>84029G</td>\n",
       "      <td>knitted union flag hot water bottle</td>\n",
       "      <td>6</td>\n",
       "      <td>2010-12-01 08:26:00</td>\n",
       "      <td>3.39</td>\n",
       "      <td>17850.0</td>\n",
       "      <td>United Kingdom</td>\n",
       "      <td>0.0</td>\n",
       "      <td>20.34</td>\n",
       "      <td>0</td>\n",
       "      <td>Europe</td>\n",
       "      <td>0</td>\n",
       "      <td>2010-12-01</td>\n",
       "      <td>08:26:00</td>\n",
       "    </tr>\n",
       "    <tr>\n",
       "      <th>4</th>\n",
       "      <td>536365</td>\n",
       "      <td>84029E</td>\n",
       "      <td>red woolly hottie white heart.</td>\n",
       "      <td>6</td>\n",
       "      <td>2010-12-01 08:26:00</td>\n",
       "      <td>3.39</td>\n",
       "      <td>17850.0</td>\n",
       "      <td>United Kingdom</td>\n",
       "      <td>0.0</td>\n",
       "      <td>20.34</td>\n",
       "      <td>0</td>\n",
       "      <td>Europe</td>\n",
       "      <td>0</td>\n",
       "      <td>2010-12-01</td>\n",
       "      <td>08:26:00</td>\n",
       "    </tr>\n",
       "  </tbody>\n",
       "</table>\n",
       "</div>"
      ],
      "text/plain": [
       "  InvoiceNo StockCode                          Description  Quantity  \\\n",
       "0    536365    85123A   white hanging heart t-light holder         6   \n",
       "1    536365     71053                  white metal lantern         6   \n",
       "2    536365    84406B       cream cupid hearts coat hanger         8   \n",
       "3    536365    84029G  knitted union flag hot water bottle         6   \n",
       "4    536365    84029E       red woolly hottie white heart.         6   \n",
       "\n",
       "           InvoiceDate  UnitPrice  CustomerID         Country  cancelled  \\\n",
       "0  2010-12-01 08:26:00       2.55     17850.0  United Kingdom        0.0   \n",
       "1  2010-12-01 08:26:00       3.39     17850.0  United Kingdom        0.0   \n",
       "2  2010-12-01 08:26:00       2.75     17850.0  United Kingdom        0.0   \n",
       "3  2010-12-01 08:26:00       3.39     17850.0  United Kingdom        0.0   \n",
       "4  2010-12-01 08:26:00       3.39     17850.0  United Kingdom        0.0   \n",
       "\n",
       "   revenue  discount Continent  damaged        Date      Time  \n",
       "0    15.30         0    Europe        0  2010-12-01  08:26:00  \n",
       "1    20.34         0    Europe        0  2010-12-01  08:26:00  \n",
       "2    22.00         0    Europe        0  2010-12-01  08:26:00  \n",
       "3    20.34         0    Europe        0  2010-12-01  08:26:00  \n",
       "4    20.34         0    Europe        0  2010-12-01  08:26:00  "
      ]
     },
     "execution_count": 6,
     "metadata": {},
     "output_type": "execute_result"
    }
   ],
   "source": [
    "df.head()"
   ]
  },
  {
   "cell_type": "code",
   "execution_count": 7,
   "metadata": {
    "collapsed": true
   },
   "outputs": [],
   "source": [
    "# set max date as the 'current' date\n",
    "current_date = df.InvoiceDate.max()"
   ]
  },
  {
   "cell_type": "code",
   "execution_count": 8,
   "metadata": {},
   "outputs": [
    {
     "data": {
      "text/plain": [
       "406814    2011-12-09 12:50:00\n",
       "406815    2011-12-09 12:50:00\n",
       "406816    2011-12-09 12:50:00\n",
       "406817    2011-12-09 12:50:00\n",
       "406818    2011-12-09 12:50:00\n",
       "406819    2011-12-09 12:50:00\n",
       "406820    2011-12-09 12:50:00\n",
       "406821    2011-12-09 12:50:00\n",
       "406822    2011-12-09 12:50:00\n",
       "406823    2011-12-09 12:50:00\n",
       "406824    2011-12-09 12:50:00\n",
       "406825    2011-12-09 12:50:00\n",
       "406826    2011-12-09 12:50:00\n",
       "406827    2011-12-09 12:50:00\n",
       "406828    2011-12-09 12:50:00\n",
       "Name: InvoiceDate, dtype: object"
      ]
     },
     "execution_count": 8,
     "metadata": {},
     "output_type": "execute_result"
    }
   ],
   "source": [
    "df.loc[df['InvoiceDate'] == '2011-12-09 12:50:00','InvoiceDate']"
   ]
  },
  {
   "cell_type": "code",
   "execution_count": 9,
   "metadata": {},
   "outputs": [
    {
     "data": {
      "text/plain": [
       "numpy.datetime64('2011-12-09')"
      ]
     },
     "execution_count": 9,
     "metadata": {},
     "output_type": "execute_result"
    }
   ],
   "source": [
    "converted_dates = df['InvoiceDate'].values.astype('datetime64[D]')\n",
    "\n",
    "current_day = converted_dates.max()\n",
    "current_day"
   ]
  },
  {
   "cell_type": "code",
   "execution_count": 10,
   "metadata": {
    "collapsed": true
   },
   "outputs": [],
   "source": [
    "time_since = [current_day - i for i in converted_dates]"
   ]
  },
  {
   "cell_type": "code",
   "execution_count": 11,
   "metadata": {
    "collapsed": true
   },
   "outputs": [],
   "source": [
    "time_since = time_since / np.timedelta64(1,'D')"
   ]
  },
  {
   "cell_type": "code",
   "execution_count": 12,
   "metadata": {
    "collapsed": true
   },
   "outputs": [],
   "source": [
    "df['time_since'] = time_since"
   ]
  },
  {
   "cell_type": "code",
   "execution_count": 13,
   "metadata": {},
   "outputs": [
    {
     "data": {
      "text/html": [
       "<div>\n",
       "<style>\n",
       "    .dataframe thead tr:only-child th {\n",
       "        text-align: right;\n",
       "    }\n",
       "\n",
       "    .dataframe thead th {\n",
       "        text-align: left;\n",
       "    }\n",
       "\n",
       "    .dataframe tbody tr th {\n",
       "        vertical-align: top;\n",
       "    }\n",
       "</style>\n",
       "<table border=\"1\" class=\"dataframe\">\n",
       "  <thead>\n",
       "    <tr style=\"text-align: right;\">\n",
       "      <th></th>\n",
       "      <th>InvoiceNo</th>\n",
       "      <th>StockCode</th>\n",
       "      <th>Description</th>\n",
       "      <th>Quantity</th>\n",
       "      <th>InvoiceDate</th>\n",
       "      <th>UnitPrice</th>\n",
       "      <th>CustomerID</th>\n",
       "      <th>Country</th>\n",
       "      <th>cancelled</th>\n",
       "      <th>revenue</th>\n",
       "      <th>discount</th>\n",
       "      <th>Continent</th>\n",
       "      <th>damaged</th>\n",
       "      <th>Date</th>\n",
       "      <th>Time</th>\n",
       "      <th>time_since</th>\n",
       "    </tr>\n",
       "  </thead>\n",
       "  <tbody>\n",
       "    <tr>\n",
       "      <th>0</th>\n",
       "      <td>536365</td>\n",
       "      <td>85123A</td>\n",
       "      <td>white hanging heart t-light holder</td>\n",
       "      <td>6</td>\n",
       "      <td>2010-12-01 08:26:00</td>\n",
       "      <td>2.55</td>\n",
       "      <td>17850.0</td>\n",
       "      <td>United Kingdom</td>\n",
       "      <td>0.0</td>\n",
       "      <td>15.30</td>\n",
       "      <td>0</td>\n",
       "      <td>Europe</td>\n",
       "      <td>0</td>\n",
       "      <td>2010-12-01</td>\n",
       "      <td>08:26:00</td>\n",
       "      <td>373.0</td>\n",
       "    </tr>\n",
       "    <tr>\n",
       "      <th>1</th>\n",
       "      <td>536365</td>\n",
       "      <td>71053</td>\n",
       "      <td>white metal lantern</td>\n",
       "      <td>6</td>\n",
       "      <td>2010-12-01 08:26:00</td>\n",
       "      <td>3.39</td>\n",
       "      <td>17850.0</td>\n",
       "      <td>United Kingdom</td>\n",
       "      <td>0.0</td>\n",
       "      <td>20.34</td>\n",
       "      <td>0</td>\n",
       "      <td>Europe</td>\n",
       "      <td>0</td>\n",
       "      <td>2010-12-01</td>\n",
       "      <td>08:26:00</td>\n",
       "      <td>373.0</td>\n",
       "    </tr>\n",
       "    <tr>\n",
       "      <th>2</th>\n",
       "      <td>536365</td>\n",
       "      <td>84406B</td>\n",
       "      <td>cream cupid hearts coat hanger</td>\n",
       "      <td>8</td>\n",
       "      <td>2010-12-01 08:26:00</td>\n",
       "      <td>2.75</td>\n",
       "      <td>17850.0</td>\n",
       "      <td>United Kingdom</td>\n",
       "      <td>0.0</td>\n",
       "      <td>22.00</td>\n",
       "      <td>0</td>\n",
       "      <td>Europe</td>\n",
       "      <td>0</td>\n",
       "      <td>2010-12-01</td>\n",
       "      <td>08:26:00</td>\n",
       "      <td>373.0</td>\n",
       "    </tr>\n",
       "    <tr>\n",
       "      <th>3</th>\n",
       "      <td>536365</td>\n",
       "      <td>84029G</td>\n",
       "      <td>knitted union flag hot water bottle</td>\n",
       "      <td>6</td>\n",
       "      <td>2010-12-01 08:26:00</td>\n",
       "      <td>3.39</td>\n",
       "      <td>17850.0</td>\n",
       "      <td>United Kingdom</td>\n",
       "      <td>0.0</td>\n",
       "      <td>20.34</td>\n",
       "      <td>0</td>\n",
       "      <td>Europe</td>\n",
       "      <td>0</td>\n",
       "      <td>2010-12-01</td>\n",
       "      <td>08:26:00</td>\n",
       "      <td>373.0</td>\n",
       "    </tr>\n",
       "    <tr>\n",
       "      <th>4</th>\n",
       "      <td>536365</td>\n",
       "      <td>84029E</td>\n",
       "      <td>red woolly hottie white heart.</td>\n",
       "      <td>6</td>\n",
       "      <td>2010-12-01 08:26:00</td>\n",
       "      <td>3.39</td>\n",
       "      <td>17850.0</td>\n",
       "      <td>United Kingdom</td>\n",
       "      <td>0.0</td>\n",
       "      <td>20.34</td>\n",
       "      <td>0</td>\n",
       "      <td>Europe</td>\n",
       "      <td>0</td>\n",
       "      <td>2010-12-01</td>\n",
       "      <td>08:26:00</td>\n",
       "      <td>373.0</td>\n",
       "    </tr>\n",
       "  </tbody>\n",
       "</table>\n",
       "</div>"
      ],
      "text/plain": [
       "  InvoiceNo StockCode                          Description  Quantity  \\\n",
       "0    536365    85123A   white hanging heart t-light holder         6   \n",
       "1    536365     71053                  white metal lantern         6   \n",
       "2    536365    84406B       cream cupid hearts coat hanger         8   \n",
       "3    536365    84029G  knitted union flag hot water bottle         6   \n",
       "4    536365    84029E       red woolly hottie white heart.         6   \n",
       "\n",
       "           InvoiceDate  UnitPrice  CustomerID         Country  cancelled  \\\n",
       "0  2010-12-01 08:26:00       2.55     17850.0  United Kingdom        0.0   \n",
       "1  2010-12-01 08:26:00       3.39     17850.0  United Kingdom        0.0   \n",
       "2  2010-12-01 08:26:00       2.75     17850.0  United Kingdom        0.0   \n",
       "3  2010-12-01 08:26:00       3.39     17850.0  United Kingdom        0.0   \n",
       "4  2010-12-01 08:26:00       3.39     17850.0  United Kingdom        0.0   \n",
       "\n",
       "   revenue  discount Continent  damaged        Date      Time  time_since  \n",
       "0    15.30         0    Europe        0  2010-12-01  08:26:00       373.0  \n",
       "1    20.34         0    Europe        0  2010-12-01  08:26:00       373.0  \n",
       "2    22.00         0    Europe        0  2010-12-01  08:26:00       373.0  \n",
       "3    20.34         0    Europe        0  2010-12-01  08:26:00       373.0  \n",
       "4    20.34         0    Europe        0  2010-12-01  08:26:00       373.0  "
      ]
     },
     "execution_count": 13,
     "metadata": {},
     "output_type": "execute_result"
    }
   ],
   "source": [
    "# verify changes\n",
    "df.head()"
   ]
  },
  {
   "cell_type": "code",
   "execution_count": 14,
   "metadata": {},
   "outputs": [
    {
     "data": {
      "text/plain": [
       "-611342.090000015"
      ]
     },
     "execution_count": 14,
     "metadata": {},
     "output_type": "execute_result"
    }
   ],
   "source": [
    "df[df.cancelled == 1.0].revenue.sum()"
   ]
  },
  {
   "cell_type": "code",
   "execution_count": 15,
   "metadata": {},
   "outputs": [
    {
     "data": {
      "text/plain": [
       "8911407.904003216"
      ]
     },
     "execution_count": 15,
     "metadata": {},
     "output_type": "execute_result"
    }
   ],
   "source": [
    "df[df.cancelled == 0.0].revenue.sum()"
   ]
  },
  {
   "cell_type": "code",
   "execution_count": 16,
   "metadata": {},
   "outputs": [
    {
     "data": {
      "text/plain": [
       "0.06860218908006507"
      ]
     },
     "execution_count": 16,
     "metadata": {},
     "output_type": "execute_result"
    }
   ],
   "source": [
    "(-(df[df.cancelled == 1.0].revenue.sum())) / df[df.cancelled == 0.0].revenue.sum()"
   ]
  },
  {
   "cell_type": "code",
   "execution_count": 17,
   "metadata": {},
   "outputs": [
    {
     "data": {
      "text/plain": [
       "0.021888803403887137"
      ]
     },
     "execution_count": 17,
     "metadata": {},
     "output_type": "execute_result"
    }
   ],
   "source": [
    "sum(df.cancelled) / len(df)"
   ]
  },
  {
   "cell_type": "code",
   "execution_count": 18,
   "metadata": {
    "collapsed": true
   },
   "outputs": [],
   "source": [
    "customers = np.unique(df.CustomerID)"
   ]
  },
  {
   "cell_type": "code",
   "execution_count": 19,
   "metadata": {
    "collapsed": true
   },
   "outputs": [],
   "source": [
    "time_since_first_purchase = df.groupby(by = 'CustomerID')['time_since'].max()"
   ]
  },
  {
   "cell_type": "code",
   "execution_count": 20,
   "metadata": {
    "collapsed": true
   },
   "outputs": [],
   "source": [
    "time_since_last_purchase = df.groupby(by = 'CustomerID')['time_since'].min()"
   ]
  },
  {
   "cell_type": "code",
   "execution_count": 21,
   "metadata": {
    "collapsed": true
   },
   "outputs": [],
   "source": [
    "frequency = df.groupby(by = 'CustomerID')['InvoiceNo'].count()"
   ]
  },
  {
   "cell_type": "code",
   "execution_count": 22,
   "metadata": {
    "collapsed": true
   },
   "outputs": [],
   "source": [
    "total_revenue = df.groupby(by = 'CustomerID')['revenue'].sum()"
   ]
  },
  {
   "cell_type": "code",
   "execution_count": 23,
   "metadata": {
    "collapsed": true
   },
   "outputs": [],
   "source": [
    "min_spent = df.groupby(by = 'CustomerID')['revenue'].min()\n",
    "max_spent = df.groupby(by = 'CustomerID')['revenue'].max()"
   ]
  },
  {
   "cell_type": "code",
   "execution_count": 24,
   "metadata": {
    "collapsed": true
   },
   "outputs": [],
   "source": [
    "median_spent = df.groupby(by = 'CustomerID')['revenue'].median()"
   ]
  },
  {
   "cell_type": "code",
   "execution_count": 25,
   "metadata": {
    "collapsed": true
   },
   "outputs": [],
   "source": [
    "mean_quantity = df.groupby(by = 'CustomerID')['Quantity'].mean()\n",
    "median_quantity = df.groupby(by = 'CustomerID')['Quantity'].median()\n",
    "max_quantity = df.groupby(by = 'CustomerID')['Quantity'].max()\n",
    "min_quantity = df.groupby(by = 'CustomerID')['Quantity'].min()"
   ]
  },
  {
   "cell_type": "code",
   "execution_count": 26,
   "metadata": {
    "collapsed": true
   },
   "outputs": [],
   "source": [
    "cancelled_mean = df.groupby(by = 'CustomerID')['cancelled'].mean()"
   ]
  },
  {
   "cell_type": "code",
   "execution_count": 27,
   "metadata": {
    "collapsed": true
   },
   "outputs": [],
   "source": [
    "cancelled_num = df.groupby(by = 'CustomerID')['cancelled'].sum()"
   ]
  },
  {
   "cell_type": "code",
   "execution_count": 28,
   "metadata": {},
   "outputs": [
    {
     "data": {
      "text/plain": [
       "CustomerID\n",
       "12346.0     1.0\n",
       "12347.0     0.0\n",
       "12348.0     0.0\n",
       "12349.0     0.0\n",
       "12350.0     0.0\n",
       "12352.0    10.0\n",
       "12353.0     0.0\n",
       "12354.0     0.0\n",
       "12355.0     0.0\n",
       "12356.0     0.0\n",
       "12357.0     0.0\n",
       "12358.0     0.0\n",
       "12359.0     6.0\n",
       "12360.0     0.0\n",
       "12361.0     0.0\n",
       "12362.0     8.0\n",
       "12363.0     0.0\n",
       "12364.0     0.0\n",
       "12365.0     1.0\n",
       "12367.0     0.0\n",
       "12370.0     0.0\n",
       "12371.0     0.0\n",
       "12372.0     0.0\n",
       "12373.0     0.0\n",
       "12374.0     0.0\n",
       "12375.0     1.0\n",
       "12377.0     0.0\n",
       "12378.0     0.0\n",
       "12379.0     1.0\n",
       "12380.0     1.0\n",
       "           ... \n",
       "18245.0     2.0\n",
       "18246.0     0.0\n",
       "18248.0     2.0\n",
       "18249.0     0.0\n",
       "18250.0     1.0\n",
       "18251.0     0.0\n",
       "18252.0     0.0\n",
       "18255.0     0.0\n",
       "18256.0     4.0\n",
       "18257.0     5.0\n",
       "18259.0     0.0\n",
       "18260.0     6.0\n",
       "18261.0     0.0\n",
       "18262.0     0.0\n",
       "18263.0     1.0\n",
       "18265.0     0.0\n",
       "18268.0     1.0\n",
       "18269.0     1.0\n",
       "18270.0     2.0\n",
       "18272.0     4.0\n",
       "18273.0     0.0\n",
       "18274.0    11.0\n",
       "18276.0     2.0\n",
       "18277.0     1.0\n",
       "18278.0     0.0\n",
       "18280.0     0.0\n",
       "18281.0     0.0\n",
       "18282.0     1.0\n",
       "18283.0     0.0\n",
       "18287.0     0.0\n",
       "Name: cancelled, Length: 4372, dtype: float64"
      ]
     },
     "execution_count": 28,
     "metadata": {},
     "output_type": "execute_result"
    }
   ],
   "source": [
    "cancelled_num"
   ]
  },
  {
   "cell_type": "code",
   "execution_count": 29,
   "metadata": {
    "collapsed": true
   },
   "outputs": [],
   "source": [
    "j = df.groupby(by = 'CustomerID')['StockCode'].unique()"
   ]
  },
  {
   "cell_type": "code",
   "execution_count": 30,
   "metadata": {
    "collapsed": true
   },
   "outputs": [],
   "source": [
    "unique_products = [len(i) for i in j]"
   ]
  },
  {
   "cell_type": "code",
   "execution_count": 31,
   "metadata": {
    "collapsed": true
   },
   "outputs": [],
   "source": [
    "unique_products = pd.Series(index = customers, data = unique_products)"
   ]
  },
  {
   "cell_type": "code",
   "execution_count": 32,
   "metadata": {
    "collapsed": true
   },
   "outputs": [],
   "source": [
    "unique_products_perc = unique_products / (df.groupby(by = 'CustomerID')['StockCode'].count())"
   ]
  },
  {
   "cell_type": "code",
   "execution_count": 33,
   "metadata": {},
   "outputs": [
    {
     "data": {
      "text/plain": [
       "12346.0    0.500000\n",
       "12347.0    0.565934\n",
       "12348.0    0.709677\n",
       "12349.0    1.000000\n",
       "12350.0    1.000000\n",
       "dtype: float64"
      ]
     },
     "execution_count": 33,
     "metadata": {},
     "output_type": "execute_result"
    }
   ],
   "source": [
    "unique_products_perc.head()"
   ]
  },
  {
   "cell_type": "code",
   "execution_count": 34,
   "metadata": {
    "collapsed": true
   },
   "outputs": [],
   "source": [
    "customer_rfm = pd.DataFrame([time_since_first_purchase,time_since_last_purchase,\n",
    "                            frequency,total_revenue,min_spent,max_spent,median_spent,\n",
    "                            mean_quantity,median_quantity,max_quantity,min_quantity,\n",
    "                            cancelled_mean,cancelled_num, unique_products,\n",
    "                            unique_products_perc],\n",
    "                           index = ['time_since_first_purchase','time_since_last_purchase',\n",
    "                            'frequency','total_revenue','min_spent','max_spent','median_spent',\n",
    "                            'mean_quantity','median_quantity','max_quantity','min_quantity',\n",
    "                            'cancelled_mean','cancelled_num', 'unique_products',\n",
    "                                   'unique_products_perc']).transpose()"
   ]
  },
  {
   "cell_type": "code",
   "execution_count": 35,
   "metadata": {},
   "outputs": [
    {
     "data": {
      "text/html": [
       "<div>\n",
       "<style>\n",
       "    .dataframe thead tr:only-child th {\n",
       "        text-align: right;\n",
       "    }\n",
       "\n",
       "    .dataframe thead th {\n",
       "        text-align: left;\n",
       "    }\n",
       "\n",
       "    .dataframe tbody tr th {\n",
       "        vertical-align: top;\n",
       "    }\n",
       "</style>\n",
       "<table border=\"1\" class=\"dataframe\">\n",
       "  <thead>\n",
       "    <tr style=\"text-align: right;\">\n",
       "      <th></th>\n",
       "      <th>time_since_first_purchase</th>\n",
       "      <th>time_since_last_purchase</th>\n",
       "      <th>frequency</th>\n",
       "      <th>total_revenue</th>\n",
       "      <th>min_spent</th>\n",
       "      <th>max_spent</th>\n",
       "      <th>median_spent</th>\n",
       "      <th>mean_quantity</th>\n",
       "      <th>median_quantity</th>\n",
       "      <th>max_quantity</th>\n",
       "      <th>min_quantity</th>\n",
       "      <th>cancelled_mean</th>\n",
       "      <th>cancelled_num</th>\n",
       "      <th>unique_products</th>\n",
       "      <th>unique_products_perc</th>\n",
       "    </tr>\n",
       "    <tr>\n",
       "      <th>CustomerID</th>\n",
       "      <th></th>\n",
       "      <th></th>\n",
       "      <th></th>\n",
       "      <th></th>\n",
       "      <th></th>\n",
       "      <th></th>\n",
       "      <th></th>\n",
       "      <th></th>\n",
       "      <th></th>\n",
       "      <th></th>\n",
       "      <th></th>\n",
       "      <th></th>\n",
       "      <th></th>\n",
       "      <th></th>\n",
       "      <th></th>\n",
       "    </tr>\n",
       "  </thead>\n",
       "  <tbody>\n",
       "    <tr>\n",
       "      <th>12346.0</th>\n",
       "      <td>325.0</td>\n",
       "      <td>325.0</td>\n",
       "      <td>2.0</td>\n",
       "      <td>0.00</td>\n",
       "      <td>-77183.60</td>\n",
       "      <td>77183.6</td>\n",
       "      <td>0.00</td>\n",
       "      <td>0.000000</td>\n",
       "      <td>0.0</td>\n",
       "      <td>74215.0</td>\n",
       "      <td>-74215.0</td>\n",
       "      <td>0.5</td>\n",
       "      <td>1.0</td>\n",
       "      <td>1.0</td>\n",
       "      <td>0.500000</td>\n",
       "    </tr>\n",
       "    <tr>\n",
       "      <th>12347.0</th>\n",
       "      <td>367.0</td>\n",
       "      <td>2.0</td>\n",
       "      <td>182.0</td>\n",
       "      <td>4310.00</td>\n",
       "      <td>5.04</td>\n",
       "      <td>249.6</td>\n",
       "      <td>17.00</td>\n",
       "      <td>13.505495</td>\n",
       "      <td>12.0</td>\n",
       "      <td>240.0</td>\n",
       "      <td>2.0</td>\n",
       "      <td>0.0</td>\n",
       "      <td>0.0</td>\n",
       "      <td>103.0</td>\n",
       "      <td>0.565934</td>\n",
       "    </tr>\n",
       "    <tr>\n",
       "      <th>12348.0</th>\n",
       "      <td>358.0</td>\n",
       "      <td>75.0</td>\n",
       "      <td>31.0</td>\n",
       "      <td>1797.24</td>\n",
       "      <td>13.20</td>\n",
       "      <td>240.0</td>\n",
       "      <td>41.76</td>\n",
       "      <td>75.516129</td>\n",
       "      <td>72.0</td>\n",
       "      <td>144.0</td>\n",
       "      <td>1.0</td>\n",
       "      <td>0.0</td>\n",
       "      <td>0.0</td>\n",
       "      <td>22.0</td>\n",
       "      <td>0.709677</td>\n",
       "    </tr>\n",
       "    <tr>\n",
       "      <th>12349.0</th>\n",
       "      <td>18.0</td>\n",
       "      <td>18.0</td>\n",
       "      <td>73.0</td>\n",
       "      <td>1757.55</td>\n",
       "      <td>6.64</td>\n",
       "      <td>300.0</td>\n",
       "      <td>17.70</td>\n",
       "      <td>8.643836</td>\n",
       "      <td>6.0</td>\n",
       "      <td>36.0</td>\n",
       "      <td>1.0</td>\n",
       "      <td>0.0</td>\n",
       "      <td>0.0</td>\n",
       "      <td>73.0</td>\n",
       "      <td>1.000000</td>\n",
       "    </tr>\n",
       "    <tr>\n",
       "      <th>12350.0</th>\n",
       "      <td>310.0</td>\n",
       "      <td>310.0</td>\n",
       "      <td>17.0</td>\n",
       "      <td>334.40</td>\n",
       "      <td>8.50</td>\n",
       "      <td>40.0</td>\n",
       "      <td>19.80</td>\n",
       "      <td>11.588235</td>\n",
       "      <td>12.0</td>\n",
       "      <td>24.0</td>\n",
       "      <td>1.0</td>\n",
       "      <td>0.0</td>\n",
       "      <td>0.0</td>\n",
       "      <td>17.0</td>\n",
       "      <td>1.000000</td>\n",
       "    </tr>\n",
       "  </tbody>\n",
       "</table>\n",
       "</div>"
      ],
      "text/plain": [
       "            time_since_first_purchase  time_since_last_purchase  frequency  \\\n",
       "CustomerID                                                                   \n",
       "12346.0                         325.0                     325.0        2.0   \n",
       "12347.0                         367.0                       2.0      182.0   \n",
       "12348.0                         358.0                      75.0       31.0   \n",
       "12349.0                          18.0                      18.0       73.0   \n",
       "12350.0                         310.0                     310.0       17.0   \n",
       "\n",
       "            total_revenue  min_spent  max_spent  median_spent  mean_quantity  \\\n",
       "CustomerID                                                                     \n",
       "12346.0              0.00  -77183.60    77183.6          0.00       0.000000   \n",
       "12347.0           4310.00       5.04      249.6         17.00      13.505495   \n",
       "12348.0           1797.24      13.20      240.0         41.76      75.516129   \n",
       "12349.0           1757.55       6.64      300.0         17.70       8.643836   \n",
       "12350.0            334.40       8.50       40.0         19.80      11.588235   \n",
       "\n",
       "            median_quantity  max_quantity  min_quantity  cancelled_mean  \\\n",
       "CustomerID                                                                \n",
       "12346.0                 0.0       74215.0      -74215.0             0.5   \n",
       "12347.0                12.0         240.0           2.0             0.0   \n",
       "12348.0                72.0         144.0           1.0             0.0   \n",
       "12349.0                 6.0          36.0           1.0             0.0   \n",
       "12350.0                12.0          24.0           1.0             0.0   \n",
       "\n",
       "            cancelled_num  unique_products  unique_products_perc  \n",
       "CustomerID                                                        \n",
       "12346.0               1.0              1.0              0.500000  \n",
       "12347.0               0.0            103.0              0.565934  \n",
       "12348.0               0.0             22.0              0.709677  \n",
       "12349.0               0.0             73.0              1.000000  \n",
       "12350.0               0.0             17.0              1.000000  "
      ]
     },
     "execution_count": 35,
     "metadata": {},
     "output_type": "execute_result"
    }
   ],
   "source": [
    "customer_rfm.head()"
   ]
  },
  {
   "cell_type": "code",
   "execution_count": 36,
   "metadata": {
    "collapsed": true
   },
   "outputs": [],
   "source": [
    "customer_rfm['time_as_customer'] = customer_rfm.time_since_first_purchase - customer_rfm.time_since_last_purchase"
   ]
  },
  {
   "cell_type": "code",
   "execution_count": 37,
   "metadata": {},
   "outputs": [
    {
     "data": {
      "text/html": [
       "<div>\n",
       "<style>\n",
       "    .dataframe thead tr:only-child th {\n",
       "        text-align: right;\n",
       "    }\n",
       "\n",
       "    .dataframe thead th {\n",
       "        text-align: left;\n",
       "    }\n",
       "\n",
       "    .dataframe tbody tr th {\n",
       "        vertical-align: top;\n",
       "    }\n",
       "</style>\n",
       "<table border=\"1\" class=\"dataframe\">\n",
       "  <thead>\n",
       "    <tr style=\"text-align: right;\">\n",
       "      <th></th>\n",
       "      <th>time_since_first_purchase</th>\n",
       "      <th>time_since_last_purchase</th>\n",
       "      <th>frequency</th>\n",
       "      <th>total_revenue</th>\n",
       "      <th>min_spent</th>\n",
       "      <th>max_spent</th>\n",
       "      <th>median_spent</th>\n",
       "      <th>mean_quantity</th>\n",
       "      <th>median_quantity</th>\n",
       "      <th>max_quantity</th>\n",
       "      <th>min_quantity</th>\n",
       "      <th>cancelled_mean</th>\n",
       "      <th>cancelled_num</th>\n",
       "      <th>unique_products</th>\n",
       "      <th>unique_products_perc</th>\n",
       "      <th>time_as_customer</th>\n",
       "    </tr>\n",
       "    <tr>\n",
       "      <th>CustomerID</th>\n",
       "      <th></th>\n",
       "      <th></th>\n",
       "      <th></th>\n",
       "      <th></th>\n",
       "      <th></th>\n",
       "      <th></th>\n",
       "      <th></th>\n",
       "      <th></th>\n",
       "      <th></th>\n",
       "      <th></th>\n",
       "      <th></th>\n",
       "      <th></th>\n",
       "      <th></th>\n",
       "      <th></th>\n",
       "      <th></th>\n",
       "      <th></th>\n",
       "    </tr>\n",
       "  </thead>\n",
       "  <tbody>\n",
       "    <tr>\n",
       "      <th>12346.0</th>\n",
       "      <td>325.0</td>\n",
       "      <td>325.0</td>\n",
       "      <td>2.0</td>\n",
       "      <td>0.00</td>\n",
       "      <td>-77183.60</td>\n",
       "      <td>77183.6</td>\n",
       "      <td>0.00</td>\n",
       "      <td>0.000000</td>\n",
       "      <td>0.0</td>\n",
       "      <td>74215.0</td>\n",
       "      <td>-74215.0</td>\n",
       "      <td>0.5</td>\n",
       "      <td>1.0</td>\n",
       "      <td>1.0</td>\n",
       "      <td>0.500000</td>\n",
       "      <td>0.0</td>\n",
       "    </tr>\n",
       "    <tr>\n",
       "      <th>12347.0</th>\n",
       "      <td>367.0</td>\n",
       "      <td>2.0</td>\n",
       "      <td>182.0</td>\n",
       "      <td>4310.00</td>\n",
       "      <td>5.04</td>\n",
       "      <td>249.6</td>\n",
       "      <td>17.00</td>\n",
       "      <td>13.505495</td>\n",
       "      <td>12.0</td>\n",
       "      <td>240.0</td>\n",
       "      <td>2.0</td>\n",
       "      <td>0.0</td>\n",
       "      <td>0.0</td>\n",
       "      <td>103.0</td>\n",
       "      <td>0.565934</td>\n",
       "      <td>365.0</td>\n",
       "    </tr>\n",
       "    <tr>\n",
       "      <th>12348.0</th>\n",
       "      <td>358.0</td>\n",
       "      <td>75.0</td>\n",
       "      <td>31.0</td>\n",
       "      <td>1797.24</td>\n",
       "      <td>13.20</td>\n",
       "      <td>240.0</td>\n",
       "      <td>41.76</td>\n",
       "      <td>75.516129</td>\n",
       "      <td>72.0</td>\n",
       "      <td>144.0</td>\n",
       "      <td>1.0</td>\n",
       "      <td>0.0</td>\n",
       "      <td>0.0</td>\n",
       "      <td>22.0</td>\n",
       "      <td>0.709677</td>\n",
       "      <td>283.0</td>\n",
       "    </tr>\n",
       "    <tr>\n",
       "      <th>12349.0</th>\n",
       "      <td>18.0</td>\n",
       "      <td>18.0</td>\n",
       "      <td>73.0</td>\n",
       "      <td>1757.55</td>\n",
       "      <td>6.64</td>\n",
       "      <td>300.0</td>\n",
       "      <td>17.70</td>\n",
       "      <td>8.643836</td>\n",
       "      <td>6.0</td>\n",
       "      <td>36.0</td>\n",
       "      <td>1.0</td>\n",
       "      <td>0.0</td>\n",
       "      <td>0.0</td>\n",
       "      <td>73.0</td>\n",
       "      <td>1.000000</td>\n",
       "      <td>0.0</td>\n",
       "    </tr>\n",
       "    <tr>\n",
       "      <th>12350.0</th>\n",
       "      <td>310.0</td>\n",
       "      <td>310.0</td>\n",
       "      <td>17.0</td>\n",
       "      <td>334.40</td>\n",
       "      <td>8.50</td>\n",
       "      <td>40.0</td>\n",
       "      <td>19.80</td>\n",
       "      <td>11.588235</td>\n",
       "      <td>12.0</td>\n",
       "      <td>24.0</td>\n",
       "      <td>1.0</td>\n",
       "      <td>0.0</td>\n",
       "      <td>0.0</td>\n",
       "      <td>17.0</td>\n",
       "      <td>1.000000</td>\n",
       "      <td>0.0</td>\n",
       "    </tr>\n",
       "  </tbody>\n",
       "</table>\n",
       "</div>"
      ],
      "text/plain": [
       "            time_since_first_purchase  time_since_last_purchase  frequency  \\\n",
       "CustomerID                                                                   \n",
       "12346.0                         325.0                     325.0        2.0   \n",
       "12347.0                         367.0                       2.0      182.0   \n",
       "12348.0                         358.0                      75.0       31.0   \n",
       "12349.0                          18.0                      18.0       73.0   \n",
       "12350.0                         310.0                     310.0       17.0   \n",
       "\n",
       "            total_revenue  min_spent  max_spent  median_spent  mean_quantity  \\\n",
       "CustomerID                                                                     \n",
       "12346.0              0.00  -77183.60    77183.6          0.00       0.000000   \n",
       "12347.0           4310.00       5.04      249.6         17.00      13.505495   \n",
       "12348.0           1797.24      13.20      240.0         41.76      75.516129   \n",
       "12349.0           1757.55       6.64      300.0         17.70       8.643836   \n",
       "12350.0            334.40       8.50       40.0         19.80      11.588235   \n",
       "\n",
       "            median_quantity  max_quantity  min_quantity  cancelled_mean  \\\n",
       "CustomerID                                                                \n",
       "12346.0                 0.0       74215.0      -74215.0             0.5   \n",
       "12347.0                12.0         240.0           2.0             0.0   \n",
       "12348.0                72.0         144.0           1.0             0.0   \n",
       "12349.0                 6.0          36.0           1.0             0.0   \n",
       "12350.0                12.0          24.0           1.0             0.0   \n",
       "\n",
       "            cancelled_num  unique_products  unique_products_perc  \\\n",
       "CustomerID                                                         \n",
       "12346.0               1.0              1.0              0.500000   \n",
       "12347.0               0.0            103.0              0.565934   \n",
       "12348.0               0.0             22.0              0.709677   \n",
       "12349.0               0.0             73.0              1.000000   \n",
       "12350.0               0.0             17.0              1.000000   \n",
       "\n",
       "            time_as_customer  \n",
       "CustomerID                    \n",
       "12346.0                  0.0  \n",
       "12347.0                365.0  \n",
       "12348.0                283.0  \n",
       "12349.0                  0.0  \n",
       "12350.0                  0.0  "
      ]
     },
     "execution_count": 37,
     "metadata": {},
     "output_type": "execute_result"
    }
   ],
   "source": [
    "customer_rfm.head()"
   ]
  },
  {
   "cell_type": "code",
   "execution_count": 38,
   "metadata": {
    "collapsed": true
   },
   "outputs": [],
   "source": [
    "# save it as another csv file\n",
    "customer_rfm.to_csv(\"customer_rfm2.csv\")"
   ]
  },
  {
   "cell_type": "code",
   "execution_count": 39,
   "metadata": {
    "collapsed": true
   },
   "outputs": [],
   "source": [
    "df.to_csv(\"new_onlineretail.csv\")"
   ]
  },
  {
   "cell_type": "code",
   "execution_count": null,
   "metadata": {
    "collapsed": true
   },
   "outputs": [],
   "source": []
  }
 ],
 "metadata": {
  "kernelspec": {
   "display_name": "Python 3",
   "language": "python",
   "name": "python3"
  },
  "language_info": {
   "codemirror_mode": {
    "name": "ipython",
    "version": 3
   },
   "file_extension": ".py",
   "mimetype": "text/x-python",
   "name": "python",
   "nbconvert_exporter": "python",
   "pygments_lexer": "ipython3",
   "version": "3.6.1"
  }
 },
 "nbformat": 4,
 "nbformat_minor": 2
}
